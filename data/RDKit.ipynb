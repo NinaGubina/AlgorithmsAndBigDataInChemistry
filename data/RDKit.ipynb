{
 "cells": [
  {
   "cell_type": "code",
   "execution_count": 15,
   "metadata": {},
   "outputs": [],
   "source": [
    "import numpy as np\n",
    "import pandas as pd\n",
    "from rdkit import Chem\n",
    "from rdkit.Chem import Descriptors\n",
    "from rdkit.ML.Descriptors import MoleculeDescriptors"
   ]
  },
  {
   "cell_type": "code",
   "execution_count": 16,
   "metadata": {},
   "outputs": [
    {
     "data": {
      "text/html": [
       "<div>\n",
       "<style scoped>\n",
       "    .dataframe tbody tr th:only-of-type {\n",
       "        vertical-align: middle;\n",
       "    }\n",
       "\n",
       "    .dataframe tbody tr th {\n",
       "        vertical-align: top;\n",
       "    }\n",
       "\n",
       "    .dataframe thead th {\n",
       "        text-align: right;\n",
       "    }\n",
       "</style>\n",
       "<table border=\"1\" class=\"dataframe\">\n",
       "  <thead>\n",
       "    <tr style=\"text-align: right;\">\n",
       "      <th></th>\n",
       "      <th>Name</th>\n",
       "      <th>normalised_name</th>\n",
       "      <th>raw_value</th>\n",
       "      <th>mol_file</th>\n",
       "    </tr>\n",
       "  </thead>\n",
       "  <tbody>\n",
       "    <tr>\n",
       "      <th>0</th>\n",
       "      <td>As20S60Ge20</td>\n",
       "      <td>[['As', 20.0], ['Ge', 20.0], ['S', 60.0]]</td>\n",
       "      <td>2.054</td>\n",
       "      <td>NaN</td>\n",
       "    </tr>\n",
       "    <tr>\n",
       "      <th>1</th>\n",
       "      <td>PEO</td>\n",
       "      <td>OO</td>\n",
       "      <td>1.470</td>\n",
       "      <td>&lt;rdkit.Chem.rdchem.Mol object at 0x0000025F21E...</td>\n",
       "    </tr>\n",
       "    <tr>\n",
       "      <th>2</th>\n",
       "      <td>Sapphire</td>\n",
       "      <td>O=[Al]O[Al]=O</td>\n",
       "      <td>1.750</td>\n",
       "      <td>&lt;rdkit.Chem.rdchem.Mol object at 0x0000025F21E...</td>\n",
       "    </tr>\n",
       "  </tbody>\n",
       "</table>\n",
       "</div>"
      ],
      "text/plain": [
       "          Name                            normalised_name  raw_value  \\\n",
       "0  As20S60Ge20  [['As', 20.0], ['Ge', 20.0], ['S', 60.0]]      2.054   \n",
       "1          PEO                                         OO      1.470   \n",
       "2     Sapphire                              O=[Al]O[Al]=O      1.750   \n",
       "\n",
       "                                            mol_file  \n",
       "0                                                NaN  \n",
       "1  <rdkit.Chem.rdchem.Mol object at 0x0000025F21E...  \n",
       "2  <rdkit.Chem.rdchem.Mol object at 0x0000025F21E...  "
      ]
     },
     "execution_count": 16,
     "metadata": {},
     "output_type": "execute_result"
    }
   ],
   "source": [
    "# загружаем исходные данные\n",
    "df = pd.read_csv('6_result.csv')\n",
    "df.head(3)"
   ]
  },
  {
   "cell_type": "code",
   "execution_count": null,
   "metadata": {},
   "outputs": [],
   "source": [
    "# добавляем в датафрем колонку mol файлов, для тех соединений, для которых это возможно сделать\n",
    "mols = [Chem.MolFromSmiles(smi) for smi in df['normalised_name'].tolist()]\n",
    "df['mol_file'] = mols"
   ]
  },
  {
   "cell_type": "code",
   "execution_count": 18,
   "metadata": {},
   "outputs": [],
   "source": [
    "# разбиваем датафрейм на части, которые содержат mol file и None\n",
    "df_nans = df.loc[df.mol_file.isna()]\n",
    "df_yes = df.loc[df.mol_file.notna()]"
   ]
  },
  {
   "cell_type": "code",
   "execution_count": 19,
   "metadata": {},
   "outputs": [
    {
     "name": "stdout",
     "output_type": "stream",
     "text": [
      "208\n"
     ]
    }
   ],
   "source": [
    "# количество дескрипторов \n",
    "print(len(Descriptors._descList))"
   ]
  },
  {
   "cell_type": "code",
   "execution_count": 20,
   "metadata": {},
   "outputs": [],
   "source": [
    "# зададим вычислитель дескрипторов\n",
    "calc = MoleculeDescriptors.MolecularDescriptorCalculator([x[0] for x in Descriptors._descList])"
   ]
  },
  {
   "cell_type": "code",
   "execution_count": 21,
   "metadata": {},
   "outputs": [],
   "source": [
    "# имена дескрипторов\n",
    "desc_names = calc.GetDescriptorNames()"
   ]
  },
  {
   "cell_type": "code",
   "execution_count": null,
   "metadata": {},
   "outputs": [],
   "source": [
    "# выгрузим дескрипторы и создадим датафрейм\n",
    "mol_descriptors = []\n",
    "\n",
    "for mol in df_yes['mol_file']:\n",
    "        descriptors = calc.CalcDescriptors(mol)\n",
    "        mol_descriptors.append(descriptors)\n",
    "\n",
    "df_molecular_desc = pd.DataFrame(mol_descriptors, columns=desc_names)\n",
    "df_molecular_desc.shape"
   ]
  },
  {
   "cell_type": "code",
   "execution_count": 23,
   "metadata": {},
   "outputs": [],
   "source": [
    "# объединяем датафреймы\n",
    "df_with_desc = pd.concat([df_yes.reset_index(drop=True), df_molecular_desc], axis=1)"
   ]
  },
  {
   "cell_type": "code",
   "execution_count": 26,
   "metadata": {},
   "outputs": [],
   "source": [
    "df_result = pd.concat([df_with_desc, df_nans.reset_index(drop=True)])"
   ]
  },
  {
   "cell_type": "code",
   "execution_count": 28,
   "metadata": {},
   "outputs": [],
   "source": [
    "df_result.to_csv('db_descriptors_RDKit.csv', index=False)"
   ]
  }
 ],
 "metadata": {
  "kernelspec": {
   "display_name": "math",
   "language": "python",
   "name": "python3"
  },
  "language_info": {
   "codemirror_mode": {
    "name": "ipython",
    "version": 3
   },
   "file_extension": ".py",
   "mimetype": "text/x-python",
   "name": "python",
   "nbconvert_exporter": "python",
   "pygments_lexer": "ipython3",
   "version": "3.10.9"
  },
  "orig_nbformat": 4,
  "vscode": {
   "interpreter": {
    "hash": "05612b13c8311ce58c2785ccb3280eec41316d870365340c40a1f9dc8483cf04"
   }
  }
 },
 "nbformat": 4,
 "nbformat_minor": 2
}
