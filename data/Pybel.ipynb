{
 "cells": [
  {
   "cell_type": "code",
   "execution_count": 2,
   "metadata": {},
   "outputs": [],
   "source": [
    "import pandas as pd\n",
    "from openbabel import pybel"
   ]
  },
  {
   "cell_type": "code",
   "execution_count": 5,
   "metadata": {},
   "outputs": [
    {
     "data": {
      "text/html": [
       "<div>\n",
       "<style scoped>\n",
       "    .dataframe tbody tr th:only-of-type {\n",
       "        vertical-align: middle;\n",
       "    }\n",
       "\n",
       "    .dataframe tbody tr th {\n",
       "        vertical-align: top;\n",
       "    }\n",
       "\n",
       "    .dataframe thead th {\n",
       "        text-align: right;\n",
       "    }\n",
       "</style>\n",
       "<table border=\"1\" class=\"dataframe\">\n",
       "  <thead>\n",
       "    <tr style=\"text-align: right;\">\n",
       "      <th></th>\n",
       "      <th>DOI</th>\n",
       "      <th>Date</th>\n",
       "      <th>Journal</th>\n",
       "      <th>Title</th>\n",
       "      <th>Name</th>\n",
       "      <th>measurement_error</th>\n",
       "      <th>measurement_wavelength</th>\n",
       "      <th>measurement_method</th>\n",
       "      <th>normalised_name</th>\n",
       "      <th>raw_value</th>\n",
       "      <th>specifier</th>\n",
       "    </tr>\n",
       "  </thead>\n",
       "  <tbody>\n",
       "    <tr>\n",
       "      <th>0</th>\n",
       "      <td>10.1016/S0022-3093(99)00330-0</td>\n",
       "      <td>7/19/1999</td>\n",
       "      <td>Journal of Non-Crystalline Solids</td>\n",
       "      <td>PHOTOINDUCEDCHANGESINLINEARNONLINEAROPTICALPRO...</td>\n",
       "      <td>As20S60Ge20</td>\n",
       "      <td>0.0</td>\n",
       "      <td>NaN</td>\n",
       "      <td>el_cde_tables</td>\n",
       "      <td>[['As', 20.0], ['Ge', 20.0], ['S', 60.0]]</td>\n",
       "      <td>2.054</td>\n",
       "      <td>n</td>\n",
       "    </tr>\n",
       "    <tr>\n",
       "      <th>1</th>\n",
       "      <td>10.1016/j.fct.2006.05.017</td>\n",
       "      <td>6/7/2006</td>\n",
       "      <td>Food and Chemical Toxicology</td>\n",
       "      <td>GENERATIONFORMALDEHYDEINCIGARETTESOVERVIEWRECE...</td>\n",
       "      <td>Propionaldehyde</td>\n",
       "      <td>0.0</td>\n",
       "      <td>NaN</td>\n",
       "      <td>el_cde_tables</td>\n",
       "      <td>CCC=O</td>\n",
       "      <td>3.74</td>\n",
       "      <td>n</td>\n",
       "    </tr>\n",
       "    <tr>\n",
       "      <th>2</th>\n",
       "      <td>10.1016/j.mee.2011.01.031</td>\n",
       "      <td>1/18/2011</td>\n",
       "      <td>Microelectronic Engineering</td>\n",
       "      <td>SINUSOIDALPLASMONICCRYSTALSFORBIODETECTIONSENSORS</td>\n",
       "      <td>PEO</td>\n",
       "      <td>0.0</td>\n",
       "      <td>NaN</td>\n",
       "      <td>el_cde_text</td>\n",
       "      <td>[['O', 1.0], ['PE', 1.0]]</td>\n",
       "      <td>1.47</td>\n",
       "      <td>refractive index</td>\n",
       "    </tr>\n",
       "    <tr>\n",
       "      <th>3</th>\n",
       "      <td>10.1016/j.apradiso.2012.04.026</td>\n",
       "      <td>5/2/2012</td>\n",
       "      <td>Applied Radiation and Isotopes</td>\n",
       "      <td>BENCHMARKINGGEANT4FULLSYSTEMSIMULATIONASSOCIAT...</td>\n",
       "      <td>Aluminum</td>\n",
       "      <td>0.0</td>\n",
       "      <td>NaN</td>\n",
       "      <td>el_cde_tables</td>\n",
       "      <td>[AlH2]</td>\n",
       "      <td>4.4</td>\n",
       "      <td>Refractive index</td>\n",
       "    </tr>\n",
       "    <tr>\n",
       "      <th>4</th>\n",
       "      <td>10.1016/S0924-4247(02)00264-9</td>\n",
       "      <td>9/16/2002</td>\n",
       "      <td>Sensors and Actuators A: Physical</td>\n",
       "      <td>INFLUENCESMATERIALPROPERTIESCERAMICMICROSTEREO...</td>\n",
       "      <td>Alumina</td>\n",
       "      <td>0.0</td>\n",
       "      <td>NaN</td>\n",
       "      <td>el_mylogic</td>\n",
       "      <td>O=[Al]O[Al]=O</td>\n",
       "      <td>1.7</td>\n",
       "      <td>Refractive index</td>\n",
       "    </tr>\n",
       "  </tbody>\n",
       "</table>\n",
       "</div>"
      ],
      "text/plain": [
       "                              DOI       Date  \\\n",
       "0   10.1016/S0022-3093(99)00330-0  7/19/1999   \n",
       "1       10.1016/j.fct.2006.05.017   6/7/2006   \n",
       "2       10.1016/j.mee.2011.01.031  1/18/2011   \n",
       "3  10.1016/j.apradiso.2012.04.026   5/2/2012   \n",
       "4   10.1016/S0924-4247(02)00264-9  9/16/2002   \n",
       "\n",
       "                             Journal  \\\n",
       "0  Journal of Non-Crystalline Solids   \n",
       "1       Food and Chemical Toxicology   \n",
       "2        Microelectronic Engineering   \n",
       "3     Applied Radiation and Isotopes   \n",
       "4  Sensors and Actuators A: Physical   \n",
       "\n",
       "                                               Title             Name  \\\n",
       "0  PHOTOINDUCEDCHANGESINLINEARNONLINEAROPTICALPRO...      As20S60Ge20   \n",
       "1  GENERATIONFORMALDEHYDEINCIGARETTESOVERVIEWRECE...  Propionaldehyde   \n",
       "2  SINUSOIDALPLASMONICCRYSTALSFORBIODETECTIONSENSORS              PEO   \n",
       "3  BENCHMARKINGGEANT4FULLSYSTEMSIMULATIONASSOCIAT...         Aluminum   \n",
       "4  INFLUENCESMATERIALPROPERTIESCERAMICMICROSTEREO...          Alumina   \n",
       "\n",
       "   measurement_error measurement_wavelength measurement_method  \\\n",
       "0                0.0                    NaN      el_cde_tables   \n",
       "1                0.0                    NaN      el_cde_tables   \n",
       "2                0.0                    NaN        el_cde_text   \n",
       "3                0.0                    NaN      el_cde_tables   \n",
       "4                0.0                    NaN         el_mylogic   \n",
       "\n",
       "                             normalised_name raw_value         specifier  \n",
       "0  [['As', 20.0], ['Ge', 20.0], ['S', 60.0]]     2.054                 n  \n",
       "1                                      CCC=O      3.74                 n  \n",
       "2                  [['O', 1.0], ['PE', 1.0]]      1.47  refractive index  \n",
       "3                                     [AlH2]       4.4  Refractive index  \n",
       "4                              O=[Al]O[Al]=O       1.7  Refractive index  "
      ]
     },
     "execution_count": 5,
     "metadata": {},
     "output_type": "execute_result"
    }
   ],
   "source": [
    "df = pd.read_csv('6.csv')\n",
    "df.head()"
   ]
  },
  {
   "cell_type": "code",
   "execution_count": 6,
   "metadata": {},
   "outputs": [
    {
     "name": "stdout",
     "output_type": "stream",
     "text": [
      "Количество пропущенных значений в normalised_name: 317\n",
      "[[18, 'Ge25Sb10Bi5S60'], [21, 'Y2O3'], [64, 'HfO2'], [100, 'NaFeSi2O6'], [136, 'B40Bi60Sm1.0'], [138, 'BiZnBo–'], [143, 'BFTZ'], [145, 'SiTi'], [160, 'SnS2'], [211, 'RbTi0.971Yb0.015Nb0.014OPO4'], [214, 'TeEr1'], [224, 'Si3N4'], [233, 'BSMLN'], [240, 'As2S3'], [245, 'SiO2–Nb2O5'], [248, 'CdSnAs2'], [250, 'Tb3Ga5O12'], [256, 'BiFeO3'], [261, 'SU-8'], [262, 'TiO2-SiO2'], [277, 'Y2O3'], [302, 'As30Se70'], [327, 'Ca2Al2SiO7'], [342, 'Sb2O3–GeO2'], [346, 'B10P20T70'], [359, 'Bi2O3.xSiO20.5Sm2O3'], [382, 'AgGaSe2'], [399, 'ZrON'], [406, 'BMST'], [435, 'Ta2O5'], [445, 'Y2O3'], [461, 'LiF–Sb2O3'], [465, 'As40Se60'], [466, 'MgF2'], [469, 'GeSe5Tl4'], [501, 'MgF2'], [512, 'Ge12.5Sb25Se62.5'], [527, 'CRSO'], [536, 'Cd0.60Se0.40'], [553, 'ZnSiAs2'], [558, 'Si3N4'], [572, 'S10T15HAlEr'], [613, 'Fe2O3'], [626, 'Y2Te4O11'], [639, 'Eu2O3'], [640, 'NaPh4B'], [641, 'PbxGe42-xSe48Te10'], [642, 'Eu2O3'], [644, 'LiFo'], [655, 'YAl3(BO3)4'], [668, 'AgGaSe2'], [678, 'Ge20As20S50Te10'], [684, 'BSiCaLa15'], [691, 'As20S60Ge20'], [697, 'Ga0.6Al0.4As'], [709, 'HfTiO4'], [713, 'Li2O-SiO2'], [730, 'LiF–Sb2O3'], [791, 'La2Zr2O7'], [795, 'Sn2S3'], [821, 'CuGaS2'], [824, 'Bi2O3–B2O3'], [829, 'Na2O–SiO2'], [880, 'CsSnBr3'], [909, 'Y2Ti2O7'], [920, 'Fe3Al2Si3O12(A)'], [935, 'CRSO'], [961, 'SnTe'], [971, 'YK48'], [988, 'Ga15Se85'], [1008, 'BTPAm'], [1018, 'BBC2.5Er1.0'], [1052, 'Lu2O3'], [1055, 'Se80Te18Pb2'], [1065, 'Ge2N2O'], [1085, 'HfO2'], [1087, 'K2O·2SiO2'], [1120, 'CaAl2B2O7'], [1125, 'MgF2'], [1126, 'NiPcR8'], [1129, 'BaGdGC'], [1134, 'Bu4NPh4B'], [1171, 'Ni(D4EPC)2'], [1173, 'AlGaAs'], [1188, 'CH2CH2CH2CH2CH2 –'], [1193, 'BaF2'], [1202, 'PbF2-TeO2-B2O3-Sm2O3'], [1223, 'N2Ac'], [1230, 'Ge17As18S26Se39'], [1235, 'CsGeCl3'], [1256, 'AlOxNy_2'], [1260, 'Cd50S50−xSex'], [1295, 'BBW0'], [1308, 'NPDR'], [1328, 'Rb2O–TiO2'], [1337, 'AgGaTe2'], [1342, 'ZrOSiCH'], [1376, 'GaP0.3Sb0.7'], [1391, 'NaSb3Br10'], [1404, 'C3S32'], [1413, 'HfO2 – TDHT'], [1451, 'YAlO3'], [1459, 'Cs2Hg3Cl8'], [1461, 'ZnTe'], [1463, 'HfO2'], [1477, 'CdSnAs2'], [1492, 'AlFeO3'], [1504, 'Se85−xTe15Bix'], [1513, 'K2O–B2O3'], [1526, 'Li2O–CaF2–P2O5'], [1547, 'C7F16'], [1557, 'Fe2(SO4)3'], [1566, 'Ba2SiO4'], [1589, 'AgGaGeSe4'], [1630, 'TeEr0.5'], [1640, 'AgGaSe2'], [1660, 'P4VP'], [1754, 'Se75S21Cd4'], [1755, 'LiNbO3'], [1758, 'PbF2–TeO2–B2O3–Eu2O3'], [1785, 'MoS2 –'], [1794, 'BPRFQ'], [1809, 'SiO2–Nb2O5'], [1811, 'Na2O-90SiO2'], [1815, 'AlOxNy_1'], [1826, 'GeS2'], [1851, 'CsGeCl3'], [1861, 'Gd2O3'], [1869, 'ZnSnP2'], [1879, 'Mg(PO3)2'], [1889, 'Y3Sc2Ga3O12YSGG'], [1912, 'Mg(PO3)2'], [1943, 'BAPT'], [1979, 'LiFe0.995Y0.0025Ag0.0025PO4'], [1993, 'MoSe2'], [2006, 'Eu2O3'], [2044, 'Ga0.6Al0.4As'], [2046, 'BaGdG'], [2096, 'BPbF-3'], [2137, 'SiOxNy'], [2154, 'BaF2'], [2160, 'Al-BSFs'], [2168, 'Zn2OS'], [2209, 'BST115'], [2219, 'K4Be3Si4O12'], [2221, 'LiFo'], [2254, 'KTiOAsO4'], [2285, 'Dy2O3'], [2289, 'Si0.024Ge0.734O0.242'], [2314, 'PEDOT'], [2377, 'As2S3'], [2379, 'SiOC'], [2387, 'Li2O –'], [2393, 'Li2O-SiO2'], [2417, 'Ge23.3As12Se64.7'], [2456, 'PHSQ–VE1D'], [2462, 'GeO2–SiO2'], [2498, 'As2S3'], [2506, 'Li2O-SiO2'], [2512, 'GeO2–SiO2'], [2546, 'NaCl0.2KCl0.2KBr0.6'], [2548, 'Ho3Sb5O12'], [2555, 'Ta2O5'], [2574, 'Ge14As20Se66'], [2607, 'BSYCaEu2.0'], [2609, 'KLTN'], [2620, 'AgInSnSe4'], [2657, 'ZnO−ZnF2−B2O3glassceramics'], [2678, 'CuGaSe2'], [2681, 'CdSiP2'], [2688, 'HfO2'], [2698, 'SiO2–HfO2'], [2699, 'BSYCaEu2.5'], [2723, 'SiOx'], [2738, 'CaMoO4'], [2759, 'Ca2SiO4'], [2770, 'CN978'], [2795, 'SnSe'], [2798, 'CdGeP2'], [2826, 'CH2CH2CH2CH2CH2 –'], [2832, 'Na2CO3_aq_24'], [2842, 'SiOF'], [2865, 'HgSe'], [2871, 'Se2O3'], [2892, 'Au–CdSe'], [2902, 'Al0.5In0.5FeO3'], [2918, 'SrAl2B2O7'], [2920, 'Ge14As28Se58'], [2928, 'V2O5–P2O5'], [2970, 'Bi2O330SiO2xMF'], [2979, 'ZnS0.21Se0.79'], [2994, 'GaTmO3'], [2995, 'BSiCaLa15'], [3021, 'B1Pr'], [3033, 'Ta2O5'], [3035, 'KZC'], [3066, 'Cu3Ga5Se9'], [3100, 'Ag-PVP'], [3106, 'HfO2'], [3113, 'Si3N4'], [3129, 'NPCF'], [3135, 'LiLuF'], [3138, 'Ge30As11Se49Te10'], [3182, 'Sm2O3'], [3194, 'CdGe'], [3217, 'Gd1.7Eu0.1Li0.20O3'], [3219, 'NaAlSi3O8'], [3221, 'Ge29As12Se59'], [3236, 'ZnTe'], [3258, 'BBIR3'], [3265, 'HfOx'], [3296, 'Dy2Sb2O7'], [3299, 'Na2O–TeO2'], [3335, 'HeLa'], [3371, 'LaSF9'], [3380, 'SnOx'], [3404, 'WO3–TeO2'], [3433, 'Si3N4'], [3435, 'PbCl2–PbBr2–TeO2'], [3437, 'LiZnLaAPF'], [3466, 'LiTaO3'], [3478, 'Si3N4'], [3487, 'Sm2TeO6'], [3493, 'As45S55'], [3524, 'ZrON'], [3528, 'HeLa'], [3546, 'BBS30'], [3555, 'Na2[Al2Si6O10]2H2O'], [3560, 'Zn1−xMnxO'], [3562, 'Pb0.8Sn0.2Te'], [3567, 'SU-8'], [3581, 'ZnO–Al2O3'], [3653, 'Sb2O3–P2O5'], [3662, 'Y2Ti2O7'], [3703, 'NdPb8'], [3705, 'Sb2O3–Na2O'], [3720, 'LiB3O5'], [3722, 'ZnAlBiBEr10'], [3730, 'Ge10Sb30S50Te10'], [3734, 'As42S58'], [3748, 'HfSiOx'], [3749, 'BaTiO3'], [3750, 'CABBCr3'], [3760, 'LaOF'], [3761, 'Ni0.05Zn0.95O'], [3775, 'Ge27Sb13S50Te10'], [3786, 'Li2OPbO'], [3816, 'GaP0.5Sb0.5'], [3817, 'BPbF-4'], [3827, 'Zn0.50Mn0.50S'], [3833, 'Bu4NPh4B'], [3855, 'LaOF'], [3896, 'AgGaS2'], [3897, 'CdGeAs2'], [3908, 'Ge23.3As12Se64.7'], [3915, 'Gd1.9Eu0.1O3'], [3941, 'Te20As40Se30I10'], [3965, 'Y3Sc2Al3O12'], [3969, 'P2VP'], [3990, 'ZnTe'], [3993, 'CABBCr3'], [4067, 'SixOyNz'], [4097, 'CH2CH2CH2CH2CH2 –'], [4119, 'Na2O–Sb2O3–B2O3–SiO2'], [4132, 'VB02'], [4146, 'HfMoN'], [4163, 'BBFBNd0.25'], [4188, 'Cd0.60Se0.40'], [4204, 'BaGdG'], [4234, 'BBT2'], [4279, 'YVO4'], [4302, 'Si0.236Ge0.725O0.039'], [4315, 'LiAlSi3O8'], [4324, 'LiLa(MoO4)2'], [4339, 'B7Pr'], [4356, 'HfO2'], [4363, 'Ag–ZnO'], [4372, 'ZnAlBiBTb1.0'], [4384, 'IPZO–'], [4391, 'Ta2O5'], [4420, 'Si2N2O'], [4455, 'Ge25S65I10'], [4464, 'BaWO4'], [4471, 'Ge15As15Se17Te53'], [4487, 'Dy2O3'], [4504, 'MgF2'], [4520, 'CdSe-PVP'], [4531, 'BIPT'], [4576, 'Al0.2Hf0.22O0.58'], [4624, 'CsCl-PEG6000-H2O'], [4640, 'C8F18'], [4659, 'CuGaSe2'], [4664, 'C24H52O4Si'], [4671, 'BBT2'], [4690, 'TiSi2'], [4701, 'Ge21As12Se67'], [4714, 'BBGA4'], [4724, 'CuAlS2'], [4725, 'ZnTe'], [4738, 'Na2O–GeO2'], [4745, 'IPDI–'], [4767, 'Se84−xTe15Bi1.0Pbx'], [4786, 'LiB3O5'], [4832, 'CuGaS2'], [4840, 'BBTF1'], [4842, 'SiON'], [4860, 'Ge20Sb20S50Te10'], [4875, 'Eu2O3'], [4890, 'Bi12TiO20'], [4892, 'Ta2O5'], [4897, 'GaSbS-PbI2'], [4906, 'HgTe'], [4918, 'ZnTe'], [4936, 'BPIE'], [4958, 'OV04'], [4979, 'ZnAlBiBTb3.0'], [4985, 'CuGaGeSe4']]\n"
     ]
    }
   ],
   "source": [
    "# выборка индексов строк с пропущенными значениями в колонке normalised_name\n",
    "null_indexes = df[df['normalised_name'].isnull()].index.tolist()\n",
    "\n",
    "# создание списка значений из колонки Name по индексам из null_indexes\n",
    "name_indexes = df.loc[null_indexes, 'Name'].tolist()\n",
    "\n",
    "null_id_name = [[x, y] for x, y in zip(null_indexes, name_indexes)]\n",
    "print('Количество пропущенных значений в normalised_name:', len(null_id_name))\n",
    "print(null_id_name)"
   ]
  },
  {
   "cell_type": "code",
   "execution_count": 6,
   "metadata": {},
   "outputs": [
    {
     "ename": "ValueError",
     "evalue": "name is not a recognised Open Babel format",
     "output_type": "error",
     "traceback": [
      "\u001b[1;31m---------------------------------------------------------------------------\u001b[0m",
      "\u001b[1;31mValueError\u001b[0m                                Traceback (most recent call last)",
      "Cell \u001b[1;32mIn[6], line 2\u001b[0m\n\u001b[0;32m      1\u001b[0m \u001b[39m# Преобразование названия в смайл\u001b[39;00m\n\u001b[1;32m----> 2\u001b[0m mol \u001b[39m=\u001b[39m pybel\u001b[39m.\u001b[39;49mreadstring(\u001b[39mformat\u001b[39;49m\u001b[39m=\u001b[39;49m\u001b[39m'\u001b[39;49m\u001b[39mname\u001b[39;49m\u001b[39m'\u001b[39;49m, string\u001b[39m=\u001b[39;49m\u001b[39m'\u001b[39;49m\u001b[39macetic acid\u001b[39;49m\u001b[39m'\u001b[39;49m)\n\u001b[0;32m      3\u001b[0m smiles \u001b[39m=\u001b[39m mol\u001b[39m.\u001b[39mwrite(\u001b[39m'\u001b[39m\u001b[39msmiles\u001b[39m\u001b[39m'\u001b[39m)\n\u001b[0;32m      5\u001b[0m \u001b[39mprint\u001b[39m(smiles)\n",
      "File \u001b[1;32mc:\\Users\\ninag\\mambaforge\\envs\\math\\lib\\openbabel\\pybel.py:200\u001b[0m, in \u001b[0;36mreadstring\u001b[1;34m(format, string, opt)\u001b[0m\n\u001b[0;32m    198\u001b[0m formatok \u001b[39m=\u001b[39m obconversion\u001b[39m.\u001b[39mSetInFormat(\u001b[39mformat\u001b[39m)\n\u001b[0;32m    199\u001b[0m \u001b[39mif\u001b[39;00m \u001b[39mnot\u001b[39;00m formatok:\n\u001b[1;32m--> 200\u001b[0m     \u001b[39mraise\u001b[39;00m \u001b[39mValueError\u001b[39;00m(\u001b[39m\"\u001b[39m\u001b[39m%s\u001b[39;00m\u001b[39m is not a recognised Open Babel format\u001b[39m\u001b[39m\"\u001b[39m \u001b[39m%\u001b[39m \u001b[39mformat\u001b[39m)\n\u001b[0;32m    201\u001b[0m \u001b[39mfor\u001b[39;00m k, v \u001b[39min\u001b[39;00m opt\u001b[39m.\u001b[39mitems():\n\u001b[0;32m    202\u001b[0m     \u001b[39mif\u001b[39;00m v \u001b[39mis\u001b[39;00m \u001b[39mNone\u001b[39;00m:\n",
      "\u001b[1;31mValueError\u001b[0m: name is not a recognised Open Babel format"
     ]
    }
   ],
   "source": [
    "# Преобразование названия в смайл\n",
    "mol = pybel.readstring(format='name', string='acetic acid')\n",
    "smiles = mol.write('smiles')\n",
    "\n",
    "print(smiles)"
   ]
  }
 ],
 "metadata": {
  "kernelspec": {
   "display_name": "math",
   "language": "python",
   "name": "python3"
  },
  "language_info": {
   "codemirror_mode": {
    "name": "ipython",
    "version": 3
   },
   "file_extension": ".py",
   "mimetype": "text/x-python",
   "name": "python",
   "nbconvert_exporter": "python",
   "pygments_lexer": "ipython3",
   "version": "3.10.9"
  },
  "orig_nbformat": 4
 },
 "nbformat": 4,
 "nbformat_minor": 2
}
