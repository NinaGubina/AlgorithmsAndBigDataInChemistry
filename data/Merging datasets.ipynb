{
 "cells": [
  {
   "cell_type": "code",
   "execution_count": 1,
   "metadata": {},
   "outputs": [],
   "source": [
    "import numpy as np\n",
    "import pandas as pd"
   ]
  },
  {
   "cell_type": "code",
   "execution_count": 25,
   "metadata": {},
   "outputs": [],
   "source": [
    "df = pd.read_csv('6_good_smiles.csv')"
   ]
  },
  {
   "cell_type": "code",
   "execution_count": null,
   "metadata": {},
   "outputs": [],
   "source": [
    "# загружаем датасеты дескрипторов\n",
    "df_mordred = pd.read_csv('db_descriptors_Mordred.csv')\n",
    "df_rdkit = pd.read_csv('db_descriptors_RDKit.csv')\n",
    "df_pubchem = pd.read_csv('db_descriptors_PubChem.csv')"
   ]
  },
  {
   "cell_type": "code",
   "execution_count": 34,
   "metadata": {},
   "outputs": [],
   "source": [
    "# заменяем все строковые значением на nans\n",
    "columns = df_mordred.columns.tolist()\n",
    "\n",
    "for column in columns[12:]:\n",
    "    new_column = pd.to_numeric(df_mordred[column], errors='coerce')\n",
    "    df_mordred[column] = new_column"
   ]
  }
 ],
 "metadata": {
  "kernelspec": {
   "display_name": "math",
   "language": "python",
   "name": "python3"
  },
  "language_info": {
   "codemirror_mode": {
    "name": "ipython",
    "version": 3
   },
   "file_extension": ".py",
   "mimetype": "text/x-python",
   "name": "python",
   "nbconvert_exporter": "python",
   "pygments_lexer": "ipython3",
   "version": "3.9.16"
  },
  "orig_nbformat": 4,
  "vscode": {
   "interpreter": {
    "hash": "05612b13c8311ce58c2785ccb3280eec41316d870365340c40a1f9dc8483cf04"
   }
  }
 },
 "nbformat": 4,
 "nbformat_minor": 2
}
