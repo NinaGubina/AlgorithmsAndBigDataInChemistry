{
 "cells": [
  {
   "cell_type": "code",
   "execution_count": 1,
   "metadata": {},
   "outputs": [],
   "source": [
    "import numpy as np\n",
    "import pandas as pd\n",
    "import pickle as pi\n",
    "\n",
    "from sklearn.impute import KNNImputer\n",
    "from sklearn.preprocessing import MinMaxScaler"
   ]
  },
  {
   "cell_type": "code",
   "execution_count": 2,
   "metadata": {},
   "outputs": [
    {
     "name": "stderr",
     "output_type": "stream",
     "text": [
      "C:\\Users\\ninag\\AppData\\Local\\Temp\\ipykernel_16260\\2548817588.py:2: DtypeWarning: Columns (3,8,9,10,11,12,13,14,15,16,17,18,19,57,58,59,60,61,62,63,64,65,93,94,95,96,97,98,99,100,101,102,103,104,105,106,107,108,109,110,111,112,113,114,115,116,117,118,119,139,140,141,142,143,144,145,146,148,149,150,151,152,153,154,155,156,157,158,159,160,161,162,163,164,166,167,168,169,170,171,172,173,175,176,177,178,179,180,181,182,184,185,186,187,188,189,190,191,192,193,194,195,196,197,198,199,200,201,202,203,204,205,206,207,208,209,210,211,212,213,214,215,216,217,218,220,221,222,223,224,225,226,227,229,230,231,232,233,234,235,236,237,238,239,240,241,242,243,244,245,264,265,266,267,268,269,270,271,272,300,301,302,303,304,305,306,307,308,309,310,311,312,313,314,315,316,317,318,319,320,321,322,323,324,325,326,345,346,347,348,349,350,351,352,353,355,356,357,358,359,360,361,362,364,365,366,367,368,369,370,371,372,373,374,375,376,377,378,379,380,382,383,384,385,386,387,388,389,391,392,393,394,395,396,397,398,400,401,402,403,404,405,406,407,408,409,410,411,412,413,414,415,416,417,418,419,420,421,422,423,424,425,426,427,428,429,430,431,432,433,434,436,437,438,439,440,441,442,443,445,446,447,448,449,450,451,452,453,454,455,456,457,458,459,460,461,462,463,464,465,466,467,468,469,470,471,472,473,474,475,476,477,478,479,480,481,482,483,484,485,486,487,488,489,490,491,492,493,494,495,496,497,498,499,500,501,502,503,504,505,506,507,508,509,510,511,512,513,514,515,516,517,518,519,520,521,522,523,524,525,526,527,528,529,530,531,532,533,534,535,536,537,538,539,540,541,542,543,544,545,546,547,548,549,550,551,552,553,554,555,556,557,558,559,560,561,562,563,564,565,566,567,568,569,570,571,572,573,574,575,576,577,578,579,580,581,582,583,584,585,586,587,588,589,590,591,592,593,594,595,596,597,598,599,600,601,602,603,604,605,606,607,608,609,610,611,612,613,614,615,616,617,618,619,620,621,622,623,624,625,626,627,628,629,630,631,632,633,634,635,636,637,638,639,640,641,642,643,644,645,646,647,648,649,650,651,652,653,654,655,656,657,658,659,660,661,662,663,664,665,666,667,668,670,671,672,673,674,675,676,677,678,679,680,681,682,683,684,685,686,687,688,689,690,691,692,693,694,695,696,697,698,699,700,701,702,703,704,705,706,707,708,709,710,711,712,713,714,715,716,717,718,719,720,721,722,723,724,725,726,727,728,729,730,731,732,733,734,735,736,737,738,739,740,741,742,743,744,745,746,747,748,749,750,751,752,753,754,755,756,757,758,759,760,761,762,763,764,765,766,767,768,769,770,771,772,773,784,785,795,821,829,830,831,832,833,834,835,836,837,845,846,847,848,849,850,851,852,856,857,858,864,865,866,869,870,871,872,873,874,875,876,877,878,879,880,881,882,883,884,885,886,887,888,889,890,891,892,893,894,1053,1054,1055,1056,1057,1058,1059,1060,1061,1062,1063,1064,1065,1066,1067,1068,1069,1070,1071,1072,1073,1074,1075,1076,1077,1078,1079,1080,1081,1082,1083,1084,1085,1086,1087,1088,1089,1090,1091,1092,1093,1094,1095,1096,1097,1098,1099,1100,1101,1102,1103,1104,1105,1106,1107,1108,1109,1110,1111,1112,1113,1114,1115,1116,1117,1118,1119,1120,1121,1122,1123,1124,1125,1126,1127,1128,1129,1130,1131,1132,1133,1134,1135,1136,1137,1138,1139,1140,1141,1142,1143,1144,1145,1146,1147,1148,1149,1150,1151,1152,1153,1154,1155,1156,1157,1158,1159,1160,1161,1162,1163,1164,1165,1166,1167,1168,1169,1170,1171,1172,1173,1174,1175,1176,1177,1178,1179,1180,1181,1182,1183,1184,1185,1186,1187,1188,1189,1190,1191,1192,1193,1194,1195,1196,1197,1198,1199,1200,1201,1202,1203,1204,1205,1206,1207,1208,1209,1210,1212,1213,1214,1215,1216,1217,1218,1219,1220,1221,1222,1223,1224,1225,1226,1227,1228,1229,1230,1231,1232,1233,1234,1235,1236,1237,1238,1239,1240,1241,1242,1243,1244,1245,1246,1247,1248,1249,1250,1251,1252,1253,1254,1255,1256,1273,1274,1275,1276,1277,1278,1279,1280,1281,1282,1283,1284,1303,1304,1305,1306,1307,1363,1364,1365,1366,1367,1368,1369,1370,1371,1372,1373,1374,1375,1376,1377,1378,1379,1380,1381,1382,1383,1384,1385,1386,1387,1388,1389,1390,1391,1392,1393,1556,1584,1585,1586,1587,1615) have mixed types. Specify dtype option on import or set low_memory=False.\n",
      "  df_mordred = pd.read_csv('db_descriptors_Mordred.csv')\n"
     ]
    }
   ],
   "source": [
    "# загружаем датасеты дескрипторов\n",
    "df_mordred = pd.read_csv('db_descriptors_Mordred.csv')\n",
    "df_rdkit = pd.read_csv('db_descriptors_RDKit.csv')\n",
    "df_pubchem = pd.read_csv('db_descriptors_PubChem.csv')\n",
    "df_matproj = pd.read_csv('db_descriptors_MaterialsProject.csv')"
   ]
  },
  {
   "cell_type": "code",
   "execution_count": 3,
   "metadata": {},
   "outputs": [],
   "source": [
    "# заменяем все строковые значения на nans и убеждаемся, что все элементы имеют числовой формат\n",
    "for df in [df_mordred, df_rdkit, df_pubchem, df_matproj]:\n",
    "    columns = df.columns.tolist()\n",
    "\n",
    "    for column in columns[4:]:\n",
    "        new_column = pd.to_numeric(df[column], errors='coerce')\n",
    "        df[column] = new_column"
   ]
  },
  {
   "cell_type": "code",
   "execution_count": 5,
   "metadata": {},
   "outputs": [
    {
     "name": "stdout",
     "output_type": "stream",
     "text": [
      "Датафреймы отсортированы одинаково!\n"
     ]
    }
   ],
   "source": [
    "# отсортируем значения внутри датафреймов и убедимся, что строки находятся на одинаковых местах\n",
    "df_mordred_sorted = df_mordred.sort_values(by=['raw_value', 'normalised_name']).reset_index(drop=True)\n",
    "df_rdkit_sorted = df_rdkit.sort_values(by=['raw_value', 'normalised_name']).reset_index(drop=True)\n",
    "df_pubchem_sorted = df_pubchem.sort_values(by=['raw_value', 'normalised_name']).reset_index(drop=True)\n",
    "df_matproj_sorted = df_matproj.sort_values(by=['raw_value', 'normalised_name']).reset_index(drop=True)\n",
    "\n",
    "test = []\n",
    "for df_1 in [df_mordred_sorted, df_rdkit_sorted, df_pubchem_sorted, df_matproj_sorted]:\n",
    "    for df_2 in [df_mordred_sorted, df_rdkit_sorted, df_pubchem_sorted, df_matproj_sorted]:\n",
    "        test.append(df_1['normalised_name'].equals(df_2['normalised_name']))\n",
    "\n",
    "if False not in test:\n",
    "    print('Датафреймы отсортированы одинаково!')"
   ]
  },
  {
   "cell_type": "code",
   "execution_count": 27,
   "metadata": {},
   "outputs": [],
   "source": [
    "# соединим датафреймы\n",
    "df = pd.concat([df_mordred_sorted, df_rdkit_sorted.iloc[:, 4:], df_pubchem_sorted.iloc[:, 10:], df_matproj_sorted.iloc[:, 4:]], axis=1)"
   ]
  },
  {
   "cell_type": "code",
   "execution_count": 28,
   "metadata": {},
   "outputs": [
    {
     "data": {
      "text/plain": [
       "(1334, 1901)"
      ]
     },
     "execution_count": 28,
     "metadata": {},
     "output_type": "execute_result"
    }
   ],
   "source": [
    "# удалим оставшиеся ненужные колонки\n",
    "df = df.drop(['Name', 'normalised_name', 'mol_file'], axis=1)\n",
    "df.shape"
   ]
  },
  {
   "cell_type": "code",
   "execution_count": 30,
   "metadata": {},
   "outputs": [
    {
     "data": {
      "text/plain": [
       "(1071, 1809)"
      ]
     },
     "execution_count": 30,
     "metadata": {},
     "output_type": "execute_result"
    }
   ],
   "source": [
    "# удалим колонки и строки, состоявшие полностью из NaN (thresh = 2 - заполнено что-то кроме raw vallue)\n",
    "df = df.dropna(axis = 1, how='all')\n",
    "df = df.dropna(axis = 0, thresh=2)\n",
    "df.shape"
   ]
  },
  {
   "cell_type": "code",
   "execution_count": 38,
   "metadata": {},
   "outputs": [
    {
     "data": {
      "text/plain": [
       "(1071, 1579)"
      ]
     },
     "execution_count": 38,
     "metadata": {},
     "output_type": "execute_result"
    }
   ],
   "source": [
    "# удалим дублирующиеся по содержанию колонки\n",
    "df_no_duplicates = df.T.drop_duplicates().T\n",
    "df_no_duplicates = df_no_duplicates.iloc[:, ~ df_no_duplicates.columns.duplicated()]\n",
    "df_no_duplicates.shape"
   ]
  },
  {
   "cell_type": "code",
   "execution_count": 39,
   "metadata": {},
   "outputs": [
    {
     "data": {
      "text/html": [
       "<div>\n",
       "<style scoped>\n",
       "    .dataframe tbody tr th:only-of-type {\n",
       "        vertical-align: middle;\n",
       "    }\n",
       "\n",
       "    .dataframe tbody tr th {\n",
       "        vertical-align: top;\n",
       "    }\n",
       "\n",
       "    .dataframe thead th {\n",
       "        text-align: right;\n",
       "    }\n",
       "</style>\n",
       "<table border=\"1\" class=\"dataframe\">\n",
       "  <thead>\n",
       "    <tr style=\"text-align: right;\">\n",
       "      <th></th>\n",
       "      <th>raw_value</th>\n",
       "      <th>ABC</th>\n",
       "      <th>ABCGG</th>\n",
       "      <th>nAcid</th>\n",
       "      <th>nBase</th>\n",
       "      <th>SpAbs_A</th>\n",
       "      <th>SpMax_A</th>\n",
       "      <th>SpDiam_A</th>\n",
       "      <th>SpAD_A</th>\n",
       "      <th>SpMAD_A</th>\n",
       "      <th>...</th>\n",
       "      <th>density_atomic</th>\n",
       "      <th>uncorrected_energy_per_atom</th>\n",
       "      <th>formation_energy_per_atom</th>\n",
       "      <th>energy_above_hull</th>\n",
       "      <th>is_stable</th>\n",
       "      <th>equilibrium_reaction_energy_per_atom</th>\n",
       "      <th>efermi</th>\n",
       "      <th>total_magnetization</th>\n",
       "      <th>total_magnetization_normalized_vol</th>\n",
       "      <th>total_magnetization_normalized_formula_units</th>\n",
       "    </tr>\n",
       "  </thead>\n",
       "  <tbody>\n",
       "    <tr>\n",
       "      <th>1</th>\n",
       "      <td>1.000000</td>\n",
       "      <td>0.000000</td>\n",
       "      <td>0.000000</td>\n",
       "      <td>0.0</td>\n",
       "      <td>0.0</td>\n",
       "      <td>NaN</td>\n",
       "      <td>NaN</td>\n",
       "      <td>NaN</td>\n",
       "      <td>NaN</td>\n",
       "      <td>NaN</td>\n",
       "      <td>...</td>\n",
       "      <td>NaN</td>\n",
       "      <td>NaN</td>\n",
       "      <td>NaN</td>\n",
       "      <td>NaN</td>\n",
       "      <td>NaN</td>\n",
       "      <td>NaN</td>\n",
       "      <td>NaN</td>\n",
       "      <td>NaN</td>\n",
       "      <td>NaN</td>\n",
       "      <td>NaN</td>\n",
       "    </tr>\n",
       "    <tr>\n",
       "      <th>2</th>\n",
       "      <td>1.000000</td>\n",
       "      <td>11.899854</td>\n",
       "      <td>10.409025</td>\n",
       "      <td>2.0</td>\n",
       "      <td>0.0</td>\n",
       "      <td>19.191646</td>\n",
       "      <td>2.196073</td>\n",
       "      <td>4.392146</td>\n",
       "      <td>19.191646</td>\n",
       "      <td>1.199478</td>\n",
       "      <td>...</td>\n",
       "      <td>NaN</td>\n",
       "      <td>NaN</td>\n",
       "      <td>NaN</td>\n",
       "      <td>NaN</td>\n",
       "      <td>NaN</td>\n",
       "      <td>NaN</td>\n",
       "      <td>NaN</td>\n",
       "      <td>NaN</td>\n",
       "      <td>NaN</td>\n",
       "      <td>NaN</td>\n",
       "    </tr>\n",
       "    <tr>\n",
       "      <th>3</th>\n",
       "      <td>1.000277</td>\n",
       "      <td>1.414214</td>\n",
       "      <td>1.414214</td>\n",
       "      <td>0.0</td>\n",
       "      <td>0.0</td>\n",
       "      <td>2.828427</td>\n",
       "      <td>1.414214</td>\n",
       "      <td>2.828427</td>\n",
       "      <td>2.828427</td>\n",
       "      <td>0.942809</td>\n",
       "      <td>...</td>\n",
       "      <td>27.85832</td>\n",
       "      <td>-4.066061</td>\n",
       "      <td>-0.602475</td>\n",
       "      <td>0.0</td>\n",
       "      <td>1.0</td>\n",
       "      <td>-0.104832</td>\n",
       "      <td>4.538279</td>\n",
       "      <td>1.000000e-07</td>\n",
       "      <td>5.982653e-10</td>\n",
       "      <td>5.000000e-08</td>\n",
       "    </tr>\n",
       "    <tr>\n",
       "      <th>4</th>\n",
       "      <td>1.002600</td>\n",
       "      <td>23.748222</td>\n",
       "      <td>18.952656</td>\n",
       "      <td>1.0</td>\n",
       "      <td>3.0</td>\n",
       "      <td>38.424285</td>\n",
       "      <td>2.447029</td>\n",
       "      <td>4.894057</td>\n",
       "      <td>38.424285</td>\n",
       "      <td>1.239493</td>\n",
       "      <td>...</td>\n",
       "      <td>27.85832</td>\n",
       "      <td>-4.066061</td>\n",
       "      <td>-0.602475</td>\n",
       "      <td>0.0</td>\n",
       "      <td>1.0</td>\n",
       "      <td>-0.104832</td>\n",
       "      <td>4.538279</td>\n",
       "      <td>1.000000e-07</td>\n",
       "      <td>5.982653e-10</td>\n",
       "      <td>5.000000e-08</td>\n",
       "    </tr>\n",
       "    <tr>\n",
       "      <th>5</th>\n",
       "      <td>1.004000</td>\n",
       "      <td>1.414214</td>\n",
       "      <td>1.414214</td>\n",
       "      <td>0.0</td>\n",
       "      <td>0.0</td>\n",
       "      <td>2.828427</td>\n",
       "      <td>1.414214</td>\n",
       "      <td>2.828427</td>\n",
       "      <td>2.828427</td>\n",
       "      <td>0.942809</td>\n",
       "      <td>...</td>\n",
       "      <td>27.85832</td>\n",
       "      <td>-4.066061</td>\n",
       "      <td>-0.602475</td>\n",
       "      <td>0.0</td>\n",
       "      <td>1.0</td>\n",
       "      <td>-0.104832</td>\n",
       "      <td>4.538279</td>\n",
       "      <td>1.000000e-07</td>\n",
       "      <td>5.982653e-10</td>\n",
       "      <td>5.000000e-08</td>\n",
       "    </tr>\n",
       "    <tr>\n",
       "      <th>...</th>\n",
       "      <td>...</td>\n",
       "      <td>...</td>\n",
       "      <td>...</td>\n",
       "      <td>...</td>\n",
       "      <td>...</td>\n",
       "      <td>...</td>\n",
       "      <td>...</td>\n",
       "      <td>...</td>\n",
       "      <td>...</td>\n",
       "      <td>...</td>\n",
       "      <td>...</td>\n",
       "      <td>...</td>\n",
       "      <td>...</td>\n",
       "      <td>...</td>\n",
       "      <td>...</td>\n",
       "      <td>...</td>\n",
       "      <td>...</td>\n",
       "      <td>...</td>\n",
       "      <td>...</td>\n",
       "      <td>...</td>\n",
       "      <td>...</td>\n",
       "    </tr>\n",
       "    <tr>\n",
       "      <th>1329</th>\n",
       "      <td>4.000000</td>\n",
       "      <td>12.647042</td>\n",
       "      <td>10.934887</td>\n",
       "      <td>0.0</td>\n",
       "      <td>1.0</td>\n",
       "      <td>22.445285</td>\n",
       "      <td>2.334414</td>\n",
       "      <td>4.668828</td>\n",
       "      <td>22.445285</td>\n",
       "      <td>1.320311</td>\n",
       "      <td>...</td>\n",
       "      <td>NaN</td>\n",
       "      <td>NaN</td>\n",
       "      <td>NaN</td>\n",
       "      <td>NaN</td>\n",
       "      <td>NaN</td>\n",
       "      <td>NaN</td>\n",
       "      <td>NaN</td>\n",
       "      <td>NaN</td>\n",
       "      <td>NaN</td>\n",
       "      <td>NaN</td>\n",
       "    </tr>\n",
       "    <tr>\n",
       "      <th>1330</th>\n",
       "      <td>4.000000</td>\n",
       "      <td>34.387982</td>\n",
       "      <td>27.357746</td>\n",
       "      <td>0.0</td>\n",
       "      <td>0.0</td>\n",
       "      <td>57.122957</td>\n",
       "      <td>2.487084</td>\n",
       "      <td>4.974167</td>\n",
       "      <td>57.122957</td>\n",
       "      <td>1.269399</td>\n",
       "      <td>...</td>\n",
       "      <td>27.85832</td>\n",
       "      <td>-4.066061</td>\n",
       "      <td>-0.602475</td>\n",
       "      <td>0.0</td>\n",
       "      <td>1.0</td>\n",
       "      <td>-0.104832</td>\n",
       "      <td>4.538279</td>\n",
       "      <td>1.000000e-07</td>\n",
       "      <td>5.982653e-10</td>\n",
       "      <td>5.000000e-08</td>\n",
       "    </tr>\n",
       "    <tr>\n",
       "      <th>1331</th>\n",
       "      <td>4.000000</td>\n",
       "      <td>2.449490</td>\n",
       "      <td>2.449490</td>\n",
       "      <td>0.0</td>\n",
       "      <td>0.0</td>\n",
       "      <td>3.464102</td>\n",
       "      <td>1.732051</td>\n",
       "      <td>3.464102</td>\n",
       "      <td>3.464102</td>\n",
       "      <td>0.866025</td>\n",
       "      <td>...</td>\n",
       "      <td>27.85832</td>\n",
       "      <td>-4.066061</td>\n",
       "      <td>-0.602475</td>\n",
       "      <td>0.0</td>\n",
       "      <td>1.0</td>\n",
       "      <td>-0.104832</td>\n",
       "      <td>4.538279</td>\n",
       "      <td>1.000000e-07</td>\n",
       "      <td>5.982653e-10</td>\n",
       "      <td>5.000000e-08</td>\n",
       "    </tr>\n",
       "    <tr>\n",
       "      <th>1332</th>\n",
       "      <td>4.000000</td>\n",
       "      <td>NaN</td>\n",
       "      <td>NaN</td>\n",
       "      <td>NaN</td>\n",
       "      <td>NaN</td>\n",
       "      <td>NaN</td>\n",
       "      <td>NaN</td>\n",
       "      <td>NaN</td>\n",
       "      <td>NaN</td>\n",
       "      <td>NaN</td>\n",
       "      <td>...</td>\n",
       "      <td>27.85832</td>\n",
       "      <td>-4.066061</td>\n",
       "      <td>-0.602475</td>\n",
       "      <td>0.0</td>\n",
       "      <td>1.0</td>\n",
       "      <td>-0.104832</td>\n",
       "      <td>4.538279</td>\n",
       "      <td>1.000000e-07</td>\n",
       "      <td>5.982653e-10</td>\n",
       "      <td>5.000000e-08</td>\n",
       "    </tr>\n",
       "    <tr>\n",
       "      <th>1333</th>\n",
       "      <td>4.000000</td>\n",
       "      <td>NaN</td>\n",
       "      <td>NaN</td>\n",
       "      <td>NaN</td>\n",
       "      <td>NaN</td>\n",
       "      <td>NaN</td>\n",
       "      <td>NaN</td>\n",
       "      <td>NaN</td>\n",
       "      <td>NaN</td>\n",
       "      <td>NaN</td>\n",
       "      <td>...</td>\n",
       "      <td>27.85832</td>\n",
       "      <td>-4.066061</td>\n",
       "      <td>-0.602475</td>\n",
       "      <td>0.0</td>\n",
       "      <td>1.0</td>\n",
       "      <td>-0.104832</td>\n",
       "      <td>4.538279</td>\n",
       "      <td>1.000000e-07</td>\n",
       "      <td>5.982653e-10</td>\n",
       "      <td>5.000000e-08</td>\n",
       "    </tr>\n",
       "  </tbody>\n",
       "</table>\n",
       "<p>1071 rows × 1579 columns</p>\n",
       "</div>"
      ],
      "text/plain": [
       "      raw_value        ABC      ABCGG  nAcid  nBase    SpAbs_A   SpMax_A  \\\n",
       "1      1.000000   0.000000   0.000000    0.0    0.0        NaN       NaN   \n",
       "2      1.000000  11.899854  10.409025    2.0    0.0  19.191646  2.196073   \n",
       "3      1.000277   1.414214   1.414214    0.0    0.0   2.828427  1.414214   \n",
       "4      1.002600  23.748222  18.952656    1.0    3.0  38.424285  2.447029   \n",
       "5      1.004000   1.414214   1.414214    0.0    0.0   2.828427  1.414214   \n",
       "...         ...        ...        ...    ...    ...        ...       ...   \n",
       "1329   4.000000  12.647042  10.934887    0.0    1.0  22.445285  2.334414   \n",
       "1330   4.000000  34.387982  27.357746    0.0    0.0  57.122957  2.487084   \n",
       "1331   4.000000   2.449490   2.449490    0.0    0.0   3.464102  1.732051   \n",
       "1332   4.000000        NaN        NaN    NaN    NaN        NaN       NaN   \n",
       "1333   4.000000        NaN        NaN    NaN    NaN        NaN       NaN   \n",
       "\n",
       "      SpDiam_A     SpAD_A   SpMAD_A  ...  density_atomic  \\\n",
       "1          NaN        NaN       NaN  ...             NaN   \n",
       "2     4.392146  19.191646  1.199478  ...             NaN   \n",
       "3     2.828427   2.828427  0.942809  ...        27.85832   \n",
       "4     4.894057  38.424285  1.239493  ...        27.85832   \n",
       "5     2.828427   2.828427  0.942809  ...        27.85832   \n",
       "...        ...        ...       ...  ...             ...   \n",
       "1329  4.668828  22.445285  1.320311  ...             NaN   \n",
       "1330  4.974167  57.122957  1.269399  ...        27.85832   \n",
       "1331  3.464102   3.464102  0.866025  ...        27.85832   \n",
       "1332       NaN        NaN       NaN  ...        27.85832   \n",
       "1333       NaN        NaN       NaN  ...        27.85832   \n",
       "\n",
       "      uncorrected_energy_per_atom  formation_energy_per_atom  \\\n",
       "1                             NaN                        NaN   \n",
       "2                             NaN                        NaN   \n",
       "3                       -4.066061                  -0.602475   \n",
       "4                       -4.066061                  -0.602475   \n",
       "5                       -4.066061                  -0.602475   \n",
       "...                           ...                        ...   \n",
       "1329                          NaN                        NaN   \n",
       "1330                    -4.066061                  -0.602475   \n",
       "1331                    -4.066061                  -0.602475   \n",
       "1332                    -4.066061                  -0.602475   \n",
       "1333                    -4.066061                  -0.602475   \n",
       "\n",
       "      energy_above_hull  is_stable  equilibrium_reaction_energy_per_atom  \\\n",
       "1                   NaN        NaN                                   NaN   \n",
       "2                   NaN        NaN                                   NaN   \n",
       "3                   0.0        1.0                             -0.104832   \n",
       "4                   0.0        1.0                             -0.104832   \n",
       "5                   0.0        1.0                             -0.104832   \n",
       "...                 ...        ...                                   ...   \n",
       "1329                NaN        NaN                                   NaN   \n",
       "1330                0.0        1.0                             -0.104832   \n",
       "1331                0.0        1.0                             -0.104832   \n",
       "1332                0.0        1.0                             -0.104832   \n",
       "1333                0.0        1.0                             -0.104832   \n",
       "\n",
       "        efermi  total_magnetization  total_magnetization_normalized_vol  \\\n",
       "1          NaN                  NaN                                 NaN   \n",
       "2          NaN                  NaN                                 NaN   \n",
       "3     4.538279         1.000000e-07                        5.982653e-10   \n",
       "4     4.538279         1.000000e-07                        5.982653e-10   \n",
       "5     4.538279         1.000000e-07                        5.982653e-10   \n",
       "...        ...                  ...                                 ...   \n",
       "1329       NaN                  NaN                                 NaN   \n",
       "1330  4.538279         1.000000e-07                        5.982653e-10   \n",
       "1331  4.538279         1.000000e-07                        5.982653e-10   \n",
       "1332  4.538279         1.000000e-07                        5.982653e-10   \n",
       "1333  4.538279         1.000000e-07                        5.982653e-10   \n",
       "\n",
       "      total_magnetization_normalized_formula_units  \n",
       "1                                              NaN  \n",
       "2                                              NaN  \n",
       "3                                     5.000000e-08  \n",
       "4                                     5.000000e-08  \n",
       "5                                     5.000000e-08  \n",
       "...                                            ...  \n",
       "1329                                           NaN  \n",
       "1330                                  5.000000e-08  \n",
       "1331                                  5.000000e-08  \n",
       "1332                                  5.000000e-08  \n",
       "1333                                  5.000000e-08  \n",
       "\n",
       "[1071 rows x 1579 columns]"
      ]
     },
     "execution_count": 39,
     "metadata": {},
     "output_type": "execute_result"
    }
   ],
   "source": [
    "df_no_duplicates"
   ]
  },
  {
   "cell_type": "code",
   "execution_count": 62,
   "metadata": {},
   "outputs": [
    {
     "name": "stdout",
     "output_type": "stream",
     "text": [
      "Число колонок, которые необходимо удалить: 461\n"
     ]
    }
   ],
   "source": [
    "# найдем колонки, в которых nan больше 30% и удалим их из датафрейма\n",
    "drop_list = []\n",
    "\n",
    "for column in df_no_duplicates.columns:\n",
    "    count_nan = df_no_duplicates[column].isnull().sum().astype(int)\n",
    "\n",
    "    if count_nan >= len(df_no_duplicates)*0.30:\n",
    "        drop_list.append(column)\n",
    "\n",
    "print('Число колонок, которые необходимо удалить:', len(drop_list))"
   ]
  },
  {
   "cell_type": "code",
   "execution_count": 63,
   "metadata": {},
   "outputs": [
    {
     "name": "stdout",
     "output_type": "stream",
     "text": [
      "Итоговый размер датафрейма: (1071, 1034)\n"
     ]
    }
   ],
   "source": [
    "# отфильтруем низкодисперсные дескрипторы\n",
    "variances = []\n",
    "\n",
    "for col in df_no_duplicates.columns:\n",
    "    var = df_no_duplicates[col].var(ddof=1)\n",
    "    variances.append((col, var))\n",
    "\n",
    "for col, var in variances:\n",
    "  if var <= 0.01:\n",
    "    drop_list.append(col)\n",
    "\n",
    "df_result = df_no_duplicates.drop(drop_list, axis=1)\n",
    "\n",
    "print('Итоговый размер датафрейма:', df_result.shape)"
   ]
  },
  {
   "attachments": {},
   "cell_type": "markdown",
   "metadata": {},
   "source": [
    "#### Заполнение пустых ячеек"
   ]
  },
  {
   "cell_type": "code",
   "execution_count": 64,
   "metadata": {},
   "outputs": [],
   "source": [
    "# зададим часть датафрейма, в которой необходимо заполнить nans\n",
    "X = df_result.iloc[:, 1:]"
   ]
  },
  {
   "cell_type": "code",
   "execution_count": 65,
   "metadata": {},
   "outputs": [
    {
     "name": "stderr",
     "output_type": "stream",
     "text": [
      "C:\\Users\\ninag\\AppData\\Local\\Temp\\ipykernel_16260\\3711392247.py:2: SettingWithCopyWarning: \n",
      "A value is trying to be set on a copy of a slice from a DataFrame\n",
      "\n",
      "See the caveats in the documentation: https://pandas.pydata.org/pandas-docs/stable/user_guide/indexing.html#returning-a-view-versus-a-copy\n",
      "  X.replace([np.inf, -np.inf], np.nan, inplace=True)\n"
     ]
    }
   ],
   "source": [
    "# из-за возникающей ошибки с наличием бесконечных значений применим функцю\n",
    "X.replace([np.inf, -np.inf], np.nan, inplace=True)"
   ]
  },
  {
   "cell_type": "code",
   "execution_count": 66,
   "metadata": {},
   "outputs": [
    {
     "data": {
      "text/plain": [
       "209013"
      ]
     },
     "execution_count": 66,
     "metadata": {},
     "output_type": "execute_result"
    }
   ],
   "source": [
    "# количество nans\n",
    "pd.DataFrame(X).isnull().sum().sum()"
   ]
  },
  {
   "cell_type": "code",
   "execution_count": 67,
   "metadata": {},
   "outputs": [
    {
     "name": "stderr",
     "output_type": "stream",
     "text": [
      "c:\\Users\\ninag\\mambaforge\\envs\\math\\lib\\site-packages\\sklearn\\metrics\\pairwise.py:478: RuntimeWarning: overflow encountered in multiply\n",
      "  YY = Y * Y\n",
      "c:\\Users\\ninag\\mambaforge\\envs\\math\\lib\\site-packages\\sklearn\\metrics\\pairwise.py:480: RuntimeWarning: invalid value encountered in subtract\n",
      "  distances -= np.dot(missing_X, YY.T)\n"
     ]
    }
   ],
   "source": [
    "# define imputer\n",
    "imputer = KNNImputer()\n",
    "\n",
    "# fit on the dataset\n",
    "imputer.fit(X)\n",
    "\n",
    "# transform the dataset\n",
    "Xtrans = imputer.transform(X)"
   ]
  },
  {
   "cell_type": "code",
   "execution_count": 68,
   "metadata": {},
   "outputs": [],
   "source": [
    "# переведем в датафрейм\n",
    "X_result = pd.DataFrame(Xtrans, columns=X.columns)"
   ]
  },
  {
   "cell_type": "code",
   "execution_count": 69,
   "metadata": {},
   "outputs": [
    {
     "data": {
      "text/plain": [
       "0"
      ]
     },
     "execution_count": 69,
     "metadata": {},
     "output_type": "execute_result"
    }
   ],
   "source": [
    "# количество nans после заполнения\n",
    "X_result.isnull().sum().sum()"
   ]
  },
  {
   "cell_type": "code",
   "execution_count": 70,
   "metadata": {},
   "outputs": [],
   "source": [
    "# сохраним полученные данные\n",
    "X_result.to_csv('6_clear.csv', index=False)"
   ]
  },
  {
   "attachments": {},
   "cell_type": "markdown",
   "metadata": {},
   "source": [
    "#### Нормализация"
   ]
  },
  {
   "cell_type": "code",
   "execution_count": 75,
   "metadata": {},
   "outputs": [],
   "source": [
    "# зададим scaler\n",
    "scaler = MinMaxScaler()"
   ]
  },
  {
   "cell_type": "code",
   "execution_count": 76,
   "metadata": {},
   "outputs": [
    {
     "data": {
      "text/html": [
       "<style>#sk-container-id-3 {color: black;background-color: white;}#sk-container-id-3 pre{padding: 0;}#sk-container-id-3 div.sk-toggleable {background-color: white;}#sk-container-id-3 label.sk-toggleable__label {cursor: pointer;display: block;width: 100%;margin-bottom: 0;padding: 0.3em;box-sizing: border-box;text-align: center;}#sk-container-id-3 label.sk-toggleable__label-arrow:before {content: \"▸\";float: left;margin-right: 0.25em;color: #696969;}#sk-container-id-3 label.sk-toggleable__label-arrow:hover:before {color: black;}#sk-container-id-3 div.sk-estimator:hover label.sk-toggleable__label-arrow:before {color: black;}#sk-container-id-3 div.sk-toggleable__content {max-height: 0;max-width: 0;overflow: hidden;text-align: left;background-color: #f0f8ff;}#sk-container-id-3 div.sk-toggleable__content pre {margin: 0.2em;color: black;border-radius: 0.25em;background-color: #f0f8ff;}#sk-container-id-3 input.sk-toggleable__control:checked~div.sk-toggleable__content {max-height: 200px;max-width: 100%;overflow: auto;}#sk-container-id-3 input.sk-toggleable__control:checked~label.sk-toggleable__label-arrow:before {content: \"▾\";}#sk-container-id-3 div.sk-estimator input.sk-toggleable__control:checked~label.sk-toggleable__label {background-color: #d4ebff;}#sk-container-id-3 div.sk-label input.sk-toggleable__control:checked~label.sk-toggleable__label {background-color: #d4ebff;}#sk-container-id-3 input.sk-hidden--visually {border: 0;clip: rect(1px 1px 1px 1px);clip: rect(1px, 1px, 1px, 1px);height: 1px;margin: -1px;overflow: hidden;padding: 0;position: absolute;width: 1px;}#sk-container-id-3 div.sk-estimator {font-family: monospace;background-color: #f0f8ff;border: 1px dotted black;border-radius: 0.25em;box-sizing: border-box;margin-bottom: 0.5em;}#sk-container-id-3 div.sk-estimator:hover {background-color: #d4ebff;}#sk-container-id-3 div.sk-parallel-item::after {content: \"\";width: 100%;border-bottom: 1px solid gray;flex-grow: 1;}#sk-container-id-3 div.sk-label:hover label.sk-toggleable__label {background-color: #d4ebff;}#sk-container-id-3 div.sk-serial::before {content: \"\";position: absolute;border-left: 1px solid gray;box-sizing: border-box;top: 0;bottom: 0;left: 50%;z-index: 0;}#sk-container-id-3 div.sk-serial {display: flex;flex-direction: column;align-items: center;background-color: white;padding-right: 0.2em;padding-left: 0.2em;position: relative;}#sk-container-id-3 div.sk-item {position: relative;z-index: 1;}#sk-container-id-3 div.sk-parallel {display: flex;align-items: stretch;justify-content: center;background-color: white;position: relative;}#sk-container-id-3 div.sk-item::before, #sk-container-id-3 div.sk-parallel-item::before {content: \"\";position: absolute;border-left: 1px solid gray;box-sizing: border-box;top: 0;bottom: 0;left: 50%;z-index: -1;}#sk-container-id-3 div.sk-parallel-item {display: flex;flex-direction: column;z-index: 1;position: relative;background-color: white;}#sk-container-id-3 div.sk-parallel-item:first-child::after {align-self: flex-end;width: 50%;}#sk-container-id-3 div.sk-parallel-item:last-child::after {align-self: flex-start;width: 50%;}#sk-container-id-3 div.sk-parallel-item:only-child::after {width: 0;}#sk-container-id-3 div.sk-dashed-wrapped {border: 1px dashed gray;margin: 0 0.4em 0.5em 0.4em;box-sizing: border-box;padding-bottom: 0.4em;background-color: white;}#sk-container-id-3 div.sk-label label {font-family: monospace;font-weight: bold;display: inline-block;line-height: 1.2em;}#sk-container-id-3 div.sk-label-container {text-align: center;}#sk-container-id-3 div.sk-container {/* jupyter's `normalize.less` sets `[hidden] { display: none; }` but bootstrap.min.css set `[hidden] { display: none !important; }` so we also need the `!important` here to be able to override the default hidden behavior on the sphinx rendered scikit-learn.org. See: https://github.com/scikit-learn/scikit-learn/issues/21755 */display: inline-block !important;position: relative;}#sk-container-id-3 div.sk-text-repr-fallback {display: none;}</style><div id=\"sk-container-id-3\" class=\"sk-top-container\"><div class=\"sk-text-repr-fallback\"><pre>MinMaxScaler()</pre><b>In a Jupyter environment, please rerun this cell to show the HTML representation or trust the notebook. <br />On GitHub, the HTML representation is unable to render, please try loading this page with nbviewer.org.</b></div><div class=\"sk-container\" hidden><div class=\"sk-item\"><div class=\"sk-estimator sk-toggleable\"><input class=\"sk-toggleable__control sk-hidden--visually\" id=\"sk-estimator-id-3\" type=\"checkbox\" checked><label for=\"sk-estimator-id-3\" class=\"sk-toggleable__label sk-toggleable__label-arrow\">MinMaxScaler</label><div class=\"sk-toggleable__content\"><pre>MinMaxScaler()</pre></div></div></div></div></div>"
      ],
      "text/plain": [
       "MinMaxScaler()"
      ]
     },
     "execution_count": 76,
     "metadata": {},
     "output_type": "execute_result"
    }
   ],
   "source": [
    "# затем применим его к набору данных\n",
    "scaler.fit(X_result)"
   ]
  },
  {
   "cell_type": "code",
   "execution_count": 77,
   "metadata": {},
   "outputs": [],
   "source": [
    "# сохраним scaler\n",
    "pi.dump(scaler, open('scaler.pkl', 'wb'))"
   ]
  },
  {
   "cell_type": "code",
   "execution_count": 78,
   "metadata": {},
   "outputs": [],
   "source": [
    "# трансформируем имеющиеся данные\n",
    "X_result_transform = scaler.transform(X_result)"
   ]
  },
  {
   "cell_type": "code",
   "execution_count": 79,
   "metadata": {},
   "outputs": [],
   "source": [
    "# вернем в датафрейм raw value\n",
    "X_result_transform = pd.DataFrame(X_result_transform, columns=X.columns)\n",
    "X_result_transform.insert(0, \"raw_value\", df_result[\"raw_value\"].reset_index(drop=True), True)"
   ]
  },
  {
   "cell_type": "code",
   "execution_count": 80,
   "metadata": {},
   "outputs": [],
   "source": [
    "# сохраним полученные нормализованные данные\n",
    "X_result_transform.to_csv('6_clear_normalised.csv', index=False)"
   ]
  }
 ],
 "metadata": {
  "kernelspec": {
   "display_name": "math",
   "language": "python",
   "name": "python3"
  },
  "language_info": {
   "codemirror_mode": {
    "name": "ipython",
    "version": 3
   },
   "file_extension": ".py",
   "mimetype": "text/x-python",
   "name": "python",
   "nbconvert_exporter": "python",
   "pygments_lexer": "ipython3",
   "version": "3.10.9"
  },
  "orig_nbformat": 4
 },
 "nbformat": 4,
 "nbformat_minor": 2
}
