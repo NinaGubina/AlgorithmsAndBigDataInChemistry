{
 "cells": [
  {
   "cell_type": "code",
   "execution_count": 1,
   "metadata": {},
   "outputs": [],
   "source": [
    "import numpy as np\n",
    "import pandas as pd\n",
    "import pubchempy as pcp"
   ]
  },
  {
   "cell_type": "code",
   "execution_count": 2,
   "metadata": {},
   "outputs": [
    {
     "data": {
      "text/html": [
       "<div>\n",
       "<style scoped>\n",
       "    .dataframe tbody tr th:only-of-type {\n",
       "        vertical-align: middle;\n",
       "    }\n",
       "\n",
       "    .dataframe tbody tr th {\n",
       "        vertical-align: top;\n",
       "    }\n",
       "\n",
       "    .dataframe thead th {\n",
       "        text-align: right;\n",
       "    }\n",
       "</style>\n",
       "<table border=\"1\" class=\"dataframe\">\n",
       "  <thead>\n",
       "    <tr style=\"text-align: right;\">\n",
       "      <th></th>\n",
       "      <th>DOI</th>\n",
       "      <th>Date</th>\n",
       "      <th>Journal</th>\n",
       "      <th>Title</th>\n",
       "      <th>Name</th>\n",
       "      <th>measurement_error</th>\n",
       "      <th>measurement_wavelength</th>\n",
       "      <th>measurement_method</th>\n",
       "      <th>normalised_name</th>\n",
       "      <th>raw_value</th>\n",
       "      <th>specifier</th>\n",
       "    </tr>\n",
       "  </thead>\n",
       "  <tbody>\n",
       "    <tr>\n",
       "      <th>0</th>\n",
       "      <td>10.1016/S0022-3093(99)00330-0</td>\n",
       "      <td>7/19/1999</td>\n",
       "      <td>Journal of Non-Crystalline Solids</td>\n",
       "      <td>PHOTOINDUCEDCHANGESINLINEARNONLINEAROPTICALPRO...</td>\n",
       "      <td>As20S60Ge20</td>\n",
       "      <td>0.0</td>\n",
       "      <td>NaN</td>\n",
       "      <td>el_cde_tables</td>\n",
       "      <td>[['As', 20.0], ['Ge', 20.0], ['S', 60.0]]</td>\n",
       "      <td>2.054</td>\n",
       "      <td>n</td>\n",
       "    </tr>\n",
       "    <tr>\n",
       "      <th>1</th>\n",
       "      <td>10.1016/j.fct.2006.05.017</td>\n",
       "      <td>6/7/2006</td>\n",
       "      <td>Food and Chemical Toxicology</td>\n",
       "      <td>GENERATIONFORMALDEHYDEINCIGARETTESOVERVIEWRECE...</td>\n",
       "      <td>Propionaldehyde</td>\n",
       "      <td>0.0</td>\n",
       "      <td>NaN</td>\n",
       "      <td>el_cde_tables</td>\n",
       "      <td>CCC=O</td>\n",
       "      <td>3.74</td>\n",
       "      <td>n</td>\n",
       "    </tr>\n",
       "    <tr>\n",
       "      <th>2</th>\n",
       "      <td>10.1016/j.mee.2011.01.031</td>\n",
       "      <td>1/18/2011</td>\n",
       "      <td>Microelectronic Engineering</td>\n",
       "      <td>SINUSOIDALPLASMONICCRYSTALSFORBIODETECTIONSENSORS</td>\n",
       "      <td>PEO</td>\n",
       "      <td>0.0</td>\n",
       "      <td>NaN</td>\n",
       "      <td>el_cde_text</td>\n",
       "      <td>OO</td>\n",
       "      <td>1.47</td>\n",
       "      <td>refractive index</td>\n",
       "    </tr>\n",
       "  </tbody>\n",
       "</table>\n",
       "</div>"
      ],
      "text/plain": [
       "                             DOI       Date  \\\n",
       "0  10.1016/S0022-3093(99)00330-0  7/19/1999   \n",
       "1      10.1016/j.fct.2006.05.017   6/7/2006   \n",
       "2      10.1016/j.mee.2011.01.031  1/18/2011   \n",
       "\n",
       "                             Journal  \\\n",
       "0  Journal of Non-Crystalline Solids   \n",
       "1       Food and Chemical Toxicology   \n",
       "2        Microelectronic Engineering   \n",
       "\n",
       "                                               Title             Name  \\\n",
       "0  PHOTOINDUCEDCHANGESINLINEARNONLINEAROPTICALPRO...      As20S60Ge20   \n",
       "1  GENERATIONFORMALDEHYDEINCIGARETTESOVERVIEWRECE...  Propionaldehyde   \n",
       "2  SINUSOIDALPLASMONICCRYSTALSFORBIODETECTIONSENSORS              PEO   \n",
       "\n",
       "   measurement_error measurement_wavelength measurement_method  \\\n",
       "0                0.0                    NaN      el_cde_tables   \n",
       "1                0.0                    NaN      el_cde_tables   \n",
       "2                0.0                    NaN        el_cde_text   \n",
       "\n",
       "                             normalised_name raw_value         specifier  \n",
       "0  [['As', 20.0], ['Ge', 20.0], ['S', 60.0]]     2.054                 n  \n",
       "1                                      CCC=O      3.74                 n  \n",
       "2                                         OO      1.47  refractive index  "
      ]
     },
     "execution_count": 2,
     "metadata": {},
     "output_type": "execute_result"
    }
   ],
   "source": [
    "# загружаем исходные данные\n",
    "df = pd.read_csv('6_good_smiles.csv')\n",
    "df.head(3)"
   ]
  },
  {
   "cell_type": "code",
   "execution_count": 3,
   "metadata": {},
   "outputs": [],
   "source": [
    "# задаем свойства для выгрузки\n",
    "properties = ['MolecularFormula', 'MolecularWeight','InChI', 'InChIKey', 'IUPACName', \n",
    "                                'XLogP', 'ExactMass', 'MonoisotopicMass', 'TPSA', 'Complexity', 'Charge', \n",
    "                                'HBondDonorCount', 'HBondAcceptorCount', 'RotatableBondCount', \n",
    "                                'HeavyAtomCount', 'IsotopeAtomCount', 'AtomStereoCount', \n",
    "                                'DefinedAtomStereoCount', 'UndefinedAtomStereoCount', 'BondStereoCount', \n",
    "                                'DefinedBondStereoCount', 'UndefinedBondStereoCount', 'CovalentUnitCount', \n",
    "                                'Volume3D', 'XStericQuadrupole3D', 'YStericQuadrupole3D', \n",
    "                                'ZStericQuadrupole3D', 'FeatureCount3D', 'FeatureAcceptorCount3D', \n",
    "                                'FeatureDonorCount3D', 'FeatureAnionCount3D', 'FeatureCationCount3D', \n",
    "                                'FeatureRingCount3D', 'FeatureHydrophobeCount3D', 'ConformerModelRMSD3D', \n",
    "                                'EffectiveRotorCount3D', 'ConformerCount3D']"
   ]
  },
  {
   "cell_type": "code",
   "execution_count": 9,
   "metadata": {},
   "outputs": [
    {
     "data": {
      "text/plain": [
       "37"
      ]
     },
     "execution_count": 9,
     "metadata": {},
     "output_type": "execute_result"
    }
   ],
   "source": [
    "# количество дескрипторов\n",
    "len(properties)"
   ]
  },
  {
   "cell_type": "code",
   "execution_count": 4,
   "metadata": {},
   "outputs": [],
   "source": [
    "# задаем пустой словарь для ненайденных смайлс\n",
    "nans_dict = {}\n",
    "for p in properties:\n",
    "    nans_dict[p] = np.nan"
   ]
  },
  {
   "cell_type": "code",
   "execution_count": 5,
   "metadata": {},
   "outputs": [],
   "source": [
    "# выгружаем дескрипторы\n",
    "data = []\n",
    "\n",
    "for i in df['normalised_name']:\n",
    "    try:\n",
    "        props = pcp.get_properties(properties, i, 'smiles')\n",
    "        data.append(props)\n",
    "    except:\n",
    "        \n",
    "        data.append([nans_dict])"
   ]
  },
  {
   "cell_type": "code",
   "execution_count": 6,
   "metadata": {},
   "outputs": [
    {
     "data": {
      "text/plain": [
       "(4663, 38)"
      ]
     },
     "execution_count": 6,
     "metadata": {},
     "output_type": "execute_result"
    }
   ],
   "source": [
    "# переводим данные в датафрейм\n",
    "rows = []\n",
    "columns = data[1][0].keys()\n",
    "for i in range(len(df['normalised_name'])):\n",
    "    rows.append(data[i][0].values())\n",
    "props_df = pd.DataFrame(data=rows, columns=columns) \n",
    "props_df.shape"
   ]
  },
  {
   "cell_type": "code",
   "execution_count": 7,
   "metadata": {},
   "outputs": [
    {
     "data": {
      "text/plain": [
       "(4663, 49)"
      ]
     },
     "execution_count": 7,
     "metadata": {},
     "output_type": "execute_result"
    }
   ],
   "source": [
    "# объединяем датафреймы\n",
    "df_result = pd.concat([df, props_df], axis=1)\n",
    "df_result.shape"
   ]
  },
  {
   "cell_type": "code",
   "execution_count": 8,
   "metadata": {},
   "outputs": [],
   "source": [
    "df_result.to_csv('db_descriptors_PubChem.csv', index=False)"
   ]
  }
 ],
 "metadata": {
  "kernelspec": {
   "display_name": "math",
   "language": "python",
   "name": "python3"
  },
  "language_info": {
   "codemirror_mode": {
    "name": "ipython",
    "version": 3
   },
   "file_extension": ".py",
   "mimetype": "text/x-python",
   "name": "python",
   "nbconvert_exporter": "python",
   "pygments_lexer": "ipython3",
   "version": "3.9.16"
  },
  "orig_nbformat": 4,
  "vscode": {
   "interpreter": {
    "hash": "05612b13c8311ce58c2785ccb3280eec41316d870365340c40a1f9dc8483cf04"
   }
  }
 },
 "nbformat": 4,
 "nbformat_minor": 2
}
