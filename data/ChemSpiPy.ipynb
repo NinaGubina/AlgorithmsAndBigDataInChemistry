{
 "cells": [
  {
   "cell_type": "code",
   "execution_count": 1,
   "metadata": {},
   "outputs": [],
   "source": [
    "import numpy as np\n",
    "import pandas as pd\n",
    "from chemspipy import ChemSpider"
   ]
  },
  {
   "cell_type": "code",
   "execution_count": 13,
   "metadata": {},
   "outputs": [],
   "source": [
    "cs = ChemSpider('FMbZAo3W5wGfs0F0JBK4l51R68zohKik')"
   ]
  },
  {
   "cell_type": "code",
   "execution_count": 23,
   "metadata": {},
   "outputs": [
    {
     "data": {
      "text/plain": [
       "Results(Created)"
      ]
     },
     "execution_count": 23,
     "metadata": {},
     "output_type": "execute_result"
    }
   ],
   "source": [
    "# не понимаю почему он не ищет номер соединений таким образом\n",
    "cs.search('O=C(OCC)C')"
   ]
  },
  {
   "cell_type": "code",
   "execution_count": 17,
   "metadata": {},
   "outputs": [],
   "source": [
    "c = cs.get_compound(2157)\n"
   ]
  },
  {
   "cell_type": "code",
   "execution_count": 18,
   "metadata": {},
   "outputs": [
    {
     "name": "stdout",
     "output_type": "stream",
     "text": [
      "C_{9}H_{8}O_{4}\n"
     ]
    }
   ],
   "source": [
    "print(c.molecular_formula)"
   ]
  },
  {
   "cell_type": "code",
   "execution_count": 8,
   "metadata": {},
   "outputs": [],
   "source": [
    "info = cs.get_extended_compound_info(2157)"
   ]
  },
  {
   "cell_type": "code",
   "execution_count": 9,
   "metadata": {},
   "outputs": [
    {
     "data": {
      "text/plain": [
       "{'id': 2157,\n",
       " 'smiles': 'CC(OC1=C(C(=O)O)C=CC=C1)=O\\r\\nCC(=O)OC1C=CC=CC=1C(O)=O',\n",
       " 'formula': 'C_{9}H_{8}O_{4}',\n",
       " 'averageMass': 180.1574,\n",
       " 'molecularWeight': 180.1574,\n",
       " 'monoisotopicMass': 180.042252,\n",
       " 'nominalMass': 180,\n",
       " 'commonName': 'Aspirin',\n",
       " 'referenceCount': 28277,\n",
       " 'dataSourceCount': 188,\n",
       " 'pubMedCount': 38376,\n",
       " 'rscCount': 47326,\n",
       " 'mol2D': '\\n  Ketcher 08291811042D 1   1.00000     0.00000     0\\n\\n 13 13  0     0  0            999 V2000\\n    4.4977   -3.4633    0.0000 C   0  0  0  0  0  0  0        0  0  0\\n    3.9985   -2.5997    0.0000 C   0  0  0  0  0  0  0        0  0  0\\n    4.4977   -1.7317    0.0000 O   0  0  0  0  0  0  0        0  0  0\\n    3.0000   -2.5997    0.0000 O   0  0  0  0  0  0  0        0  0  0\\n    2.5008   -1.7317    0.0000 C   0  0  0  0  0  0  0        0  0  0\\n    3.0000   -0.8680    0.0000 C   0  0  0  0  0  0  0        0  0  0\\n    2.5008    0.0000    0.0000 C   0  0  0  0  0  0  0        0  0  0\\n    1.4977    0.0000    0.0000 C   0  0  0  0  0  0  0        0  0  0\\n    0.9985   -0.8680    0.0000 C   0  0  0  0  0  0  0        0  0  0\\n    1.4977   -1.7317    0.0000 C   0  0  0  0  0  0  0        0  0  0\\n    0.9985   -2.5997    0.0000 C   0  0  0  0  0  0  0        0  0  0\\n    0.0000   -2.5997    0.0000 O   0  0  0  0  0  0  0        0  0  0\\n    1.4977   -3.4633    0.0000 O   0  0  0  0  0  0  0        0  0  0\\n  1  2  1  0     0  0\\n  2  3  2  0     0  0\\n  2  4  1  0     0  0\\n  4  5  1  0     0  0\\n  5  6  1  0     0  0\\n  5 10  2  0     0  0\\n  6  7  2  0     0  0\\n  7  8  1  0     0  0\\n  8  9  2  0     0  0\\n  9 10  1  0     0  0\\n 10 11  1  0     0  0\\n 11 12  1  0     0  0\\n 11 13  2  0     0  0\\nM  END\\n',\n",
       " 'mol3D': '2244\\n  Marvin  12300703363D          \\n\\n 21 21  0  0  0  0            999 V2000\\n   -0.8612   -1.2262   -0.2662 O   0  0  0  0  0  0  0  0  0  0  0  0\\n    3.0617   -1.6852    0.1961 O   0  0  0  0  0  0  0  0  0  0  0  0\\n    1.4447   -2.5635   -0.6900 O   0  0  0  0  0  0  0  0  0  0  0  0\\n   -2.4189   -2.5903   -0.0729 O   0  0  0  0  0  0  0  0  0  0  0  0\\n   -0.1412   -0.1785   -0.4132 C   0  0  0  0  0  0  0  0  0  0  0  0\\n    1.2784   -0.2956   -0.3433 C   0  0  0  0  0  0  0  0  0  0  0  0\\n   -0.7302    1.0925   -0.6232 C   0  0  0  0  0  0  0  0  0  0  0  0\\n    2.0415    0.9020   -0.3420 C   0  0  0  0  0  0  0  0  0  0  0  0\\n    0.0491    2.2590   -0.6408 C   0  0  0  0  0  0  0  0  0  0  0  0\\n    1.4378    2.1648   -0.4724 C   0  0  0  0  0  0  0  0  0  0  0  0\\n    1.9369   -1.5271   -0.2701 C   0  0  0  0  0  0  0  0  0  0  0  0\\n   -1.9700   -1.4955    0.2325 C   0  0  0  0  0  0  0  0  0  0  0  0\\n   -2.7371   -0.6848    1.1595 C   0  0  0  0  0  0  0  0  0  0  0  0\\n   -1.7396    1.1850   -0.7587 H   0  0  0  0  0  0  0  0  0  0  0  0\\n    3.0610    0.8861   -0.2532 H   0  0  0  0  0  0  0  0  0  0  0  0\\n   -0.3946    3.1715   -0.7684 H   0  0  0  0  0  0  0  0  0  0  0  0\\n    2.0064    3.0149   -0.4552 H   0  0  0  0  0  0  0  0  0  0  0  0\\n   -3.0283   -1.2693    2.0341 H   0  0  0  0  0  0  0  0  0  0  0  0\\n   -3.6371   -0.3138    0.6664 H   0  0  0  0  0  0  0  0  0  0  0  0\\n   -2.1731    0.1707    1.5341 H   0  0  0  0  0  0  0  0  0  0  0  0\\n    3.5136   -1.0170    0.5467 H   0  0  0  0  0  0  0  0  0  0  0  0\\n  1  5  1  0  0  0  0\\n  1 12  1  0  0  0  0\\n  2 11  1  0  0  0  0\\n  2 21  1  0  0  0  0\\n  3 11  2  0  0  0  0\\n  4 12  2  0  0  0  0\\n  5  6  1  0  0  0  0\\n  5  7  2  0  0  0  0\\n  6  8  2  0  0  0  0\\n  6 11  1  0  0  0  0\\n  7  9  1  0  0  0  0\\n  7 14  1  0  0  0  0\\n  8 10  1  0  0  0  0\\n  8 15  1  0  0  0  0\\n  9 10  2  0  0  0  0\\n  9 16  1  0  0  0  0\\n 10 17  1  0  0  0  0\\n 12 13  1  0  0  0  0\\n 13 18  1  0  0  0  0\\n 13 19  1  0  0  0  0\\n 13 20  1  0  0  0  0\\nM  END\\n> <PUBCHEM_BONDANNOTATIONS>\\n5  6  8\\n5  7  8\\n6  8  8\\n7  9  8\\n8  10  8\\n9  10  8\\n\\n$$$$\\n'}"
      ]
     },
     "execution_count": 9,
     "metadata": {},
     "output_type": "execute_result"
    }
   ],
   "source": [
    "# скудненько, смысла брать нет\n",
    "info"
   ]
  }
 ],
 "metadata": {
  "kernelspec": {
   "display_name": "math",
   "language": "python",
   "name": "python3"
  },
  "language_info": {
   "codemirror_mode": {
    "name": "ipython",
    "version": 3
   },
   "file_extension": ".py",
   "mimetype": "text/x-python",
   "name": "python",
   "nbconvert_exporter": "python",
   "pygments_lexer": "ipython3",
   "version": "3.9.16"
  },
  "orig_nbformat": 4,
  "vscode": {
   "interpreter": {
    "hash": "05612b13c8311ce58c2785ccb3280eec41316d870365340c40a1f9dc8483cf04"
   }
  }
 },
 "nbformat": 4,
 "nbformat_minor": 2
}
