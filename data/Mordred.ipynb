{
 "cells": [
  {
   "cell_type": "code",
   "execution_count": 1,
   "metadata": {},
   "outputs": [],
   "source": [
    "import numpy as np\n",
    "import pandas as pd\n",
    "from rdkit import Chem\n",
    "from mordred import Calculator, descriptors"
   ]
  },
  {
   "cell_type": "code",
   "execution_count": 14,
   "metadata": {},
   "outputs": [],
   "source": [
    "import openpyxl"
   ]
  },
  {
   "cell_type": "code",
   "execution_count": 2,
   "metadata": {},
   "outputs": [],
   "source": [
    "import warnings\n",
    "warnings.filterwarnings('ignore')"
   ]
  },
  {
   "cell_type": "code",
   "execution_count": 3,
   "metadata": {},
   "outputs": [
    {
     "data": {
      "text/html": [
       "<div>\n",
       "<style scoped>\n",
       "    .dataframe tbody tr th:only-of-type {\n",
       "        vertical-align: middle;\n",
       "    }\n",
       "\n",
       "    .dataframe tbody tr th {\n",
       "        vertical-align: top;\n",
       "    }\n",
       "\n",
       "    .dataframe thead th {\n",
       "        text-align: right;\n",
       "    }\n",
       "</style>\n",
       "<table border=\"1\" class=\"dataframe\">\n",
       "  <thead>\n",
       "    <tr style=\"text-align: right;\">\n",
       "      <th></th>\n",
       "      <th>Name</th>\n",
       "      <th>normalised_name</th>\n",
       "      <th>raw_value</th>\n",
       "      <th>mol_file</th>\n",
       "    </tr>\n",
       "  </thead>\n",
       "  <tbody>\n",
       "    <tr>\n",
       "      <th>0</th>\n",
       "      <td>As20S60Ge20</td>\n",
       "      <td>[['As', 20.0], ['Ge', 20.0], ['S', 60.0]]</td>\n",
       "      <td>2.054</td>\n",
       "      <td>NaN</td>\n",
       "    </tr>\n",
       "    <tr>\n",
       "      <th>1</th>\n",
       "      <td>Propionaldehyde</td>\n",
       "      <td>CCC=O</td>\n",
       "      <td>1.900</td>\n",
       "      <td>&lt;rdkit.Chem.rdchem.Mol object at 0x00000159524...</td>\n",
       "    </tr>\n",
       "    <tr>\n",
       "      <th>2</th>\n",
       "      <td>PEO</td>\n",
       "      <td>OO</td>\n",
       "      <td>1.470</td>\n",
       "      <td>&lt;rdkit.Chem.rdchem.Mol object at 0x00000159524...</td>\n",
       "    </tr>\n",
       "  </tbody>\n",
       "</table>\n",
       "</div>"
      ],
      "text/plain": [
       "              Name                            normalised_name  raw_value  \\\n",
       "0      As20S60Ge20  [['As', 20.0], ['Ge', 20.0], ['S', 60.0]]      2.054   \n",
       "1  Propionaldehyde                                      CCC=O      1.900   \n",
       "2              PEO                                         OO      1.470   \n",
       "\n",
       "                                            mol_file  \n",
       "0                                                NaN  \n",
       "1  <rdkit.Chem.rdchem.Mol object at 0x00000159524...  \n",
       "2  <rdkit.Chem.rdchem.Mol object at 0x00000159524...  "
      ]
     },
     "execution_count": 3,
     "metadata": {},
     "output_type": "execute_result"
    }
   ],
   "source": [
    "# загружаем исходные данные\n",
    "df = pd.read_csv('6_result.csv')\n",
    "df.head(3)"
   ]
  },
  {
   "cell_type": "code",
   "execution_count": 4,
   "metadata": {},
   "outputs": [
    {
     "data": {
      "text/plain": [
       "(1334, 4)"
      ]
     },
     "execution_count": 4,
     "metadata": {},
     "output_type": "execute_result"
    }
   ],
   "source": [
    "# смотрим количество строк\n",
    "df.shape"
   ]
  },
  {
   "cell_type": "code",
   "execution_count": 5,
   "metadata": {},
   "outputs": [],
   "source": [
    "# задаем вычислитель дескрипторов\n",
    "calc = Calculator(descriptors, ignore_3D=True)"
   ]
  },
  {
   "cell_type": "code",
   "execution_count": 6,
   "metadata": {},
   "outputs": [
    {
     "data": {
      "text/plain": [
       "1613"
      ]
     },
     "execution_count": 6,
     "metadata": {},
     "output_type": "execute_result"
    }
   ],
   "source": [
    "# количество дескрипторов без использования 3d дескрипторов, то есть атомных координат\n",
    "len(calc.descriptors)"
   ]
  },
  {
   "cell_type": "code",
   "execution_count": null,
   "metadata": {},
   "outputs": [],
   "source": [
    "# добавляем в датафрем колонку mol файлов, для тех соединений, для которых это возможно сделать\n",
    "mols = [Chem.MolFromSmiles(smi) for smi in df['normalised_name'].tolist()]\n",
    "df['mol_file'] = mols"
   ]
  },
  {
   "cell_type": "code",
   "execution_count": 8,
   "metadata": {},
   "outputs": [
    {
     "data": {
      "text/plain": [
       "427"
      ]
     },
     "execution_count": 8,
     "metadata": {},
     "output_type": "execute_result"
    }
   ],
   "source": [
    "# число смайлс, для которых не был найден mol файл\n",
    "len(df.loc[df['mol_file'].isna()])"
   ]
  },
  {
   "cell_type": "code",
   "execution_count": 9,
   "metadata": {},
   "outputs": [],
   "source": [
    "# разбиваем датафрейм на части, которые содержат mol file и None\n",
    "df_nans = df.loc[df.mol_file.isna()]\n",
    "df_yes = df.loc[df.mol_file.notna()]"
   ]
  },
  {
   "cell_type": "code",
   "execution_count": 10,
   "metadata": {},
   "outputs": [
    {
     "name": "stderr",
     "output_type": "stream",
     "text": [
      "  3%|▎         | 29/907 [00:02<00:35, 24.79it/s]"
     ]
    },
    {
     "name": "stdout",
     "output_type": "stream",
     "text": [
      "c:\\Users\\ninag\\mambaforge\\envs\\math\\lib\\site-packages\\numpy\\core\\fromnumeric.py:86: RuntimeWarning: overflow encountered in reduce\n",
      "  return ufunc.reduce(obj, axis, dtype, out, **passkwargs)\n"
     ]
    },
    {
     "name": "stderr",
     "output_type": "stream",
     "text": [
      "  9%|▉         | 86/907 [00:02<00:12, 67.32it/s]"
     ]
    },
    {
     "name": "stdout",
     "output_type": "stream",
     "text": [
      "c:\\Users\\ninag\\mambaforge\\envs\\math\\lib\\site-packages\\numpy\\core\\fromnumeric.py:86: RuntimeWarning: overflow encountered in reduce\n",
      "  return ufunc.reduce(obj, axis, dtype, out, **passkwargs)\n"
     ]
    },
    {
     "name": "stderr",
     "output_type": "stream",
     "text": [
      " 15%|█▌        | 139/907 [00:11<01:12, 10.64it/s]"
     ]
    },
    {
     "name": "stdout",
     "output_type": "stream",
     "text": [
      "c:\\Users\\ninag\\mambaforge\\envs\\math\\lib\\site-packages\\numpy\\core\\fromnumeric.py:86: RuntimeWarning: overflow encountered in reduce\n",
      "  return ufunc.reduce(obj, axis, dtype, out, **passkwargs)\n",
      "c:\\Users\\ninag\\mambaforge\\envs\\math\\lib\\site-packages\\numpy\\core\\fromnumeric.py:86: RuntimeWarning: overflow encountered in reduce\n",
      "  return ufunc.reduce(obj, axis, dtype, out, **passkwargs)\n"
     ]
    },
    {
     "name": "stderr",
     "output_type": "stream",
     "text": [
      "[12:45:22] WARNING: not removing hydrogen atom without neighbors\n",
      "[12:45:22] WARNING: not removing hydrogen atom without neighbors\n",
      "[12:45:22] WARNING: not removing hydrogen atom without neighbors\n",
      " 18%|█▊        | 164/907 [00:13<01:02, 11.89it/s][12:45:23] WARNING: not removing hydrogen atom without neighbors\n",
      "[12:45:23] WARNING: not removing hydrogen atom without neighbors\n",
      "[12:45:23] WARNING: not removing hydrogen atom without neighbors\n",
      " 22%|██▏       | 201/907 [00:13<00:30, 23.52it/s]"
     ]
    },
    {
     "name": "stdout",
     "output_type": "stream",
     "text": [
      "c:\\Users\\ninag\\mambaforge\\envs\\math\\lib\\site-packages\\numpy\\core\\fromnumeric.py:86: RuntimeWarning: overflow encountered in reduce\n",
      "  return ufunc.reduce(obj, axis, dtype, out, **passkwargs)\n"
     ]
    },
    {
     "name": "stderr",
     "output_type": "stream",
     "text": [
      " 29%|██▉       | 261/907 [00:15<00:22, 28.96it/s]"
     ]
    },
    {
     "name": "stdout",
     "output_type": "stream",
     "text": [
      "c:\\Users\\ninag\\mambaforge\\envs\\math\\lib\\site-packages\\numpy\\core\\fromnumeric.py:86: RuntimeWarning: overflow encountered in reduce\n",
      "  return ufunc.reduce(obj, axis, dtype, out, **passkwargs)\n",
      "c:\\Users\\ninag\\mambaforge\\envs\\math\\lib\\site-packages\\numpy\\core\\fromnumeric.py:86: RuntimeWarning: overflow encountered in reduce\n",
      "  return ufunc.reduce(obj, axis, dtype, out, **passkwargs)\n"
     ]
    },
    {
     "name": "stderr",
     "output_type": "stream",
     "text": [
      " 29%|██▉       | 263/907 [00:17<00:22, 28.96it/s]"
     ]
    },
    {
     "name": "stdout",
     "output_type": "stream",
     "text": [
      "c:\\Users\\ninag\\mambaforge\\envs\\math\\lib\\site-packages\\numpy\\core\\fromnumeric.py:86: RuntimeWarning: overflow encountered in reduce\n",
      "  return ufunc.reduce(obj, axis, dtype, out, **passkwargs)\n"
     ]
    },
    {
     "name": "stderr",
     "output_type": "stream",
     "text": [
      " 34%|███▍      | 311/907 [00:17<00:19, 30.46it/s]"
     ]
    },
    {
     "name": "stdout",
     "output_type": "stream",
     "text": [
      "c:\\Users\\ninag\\mambaforge\\envs\\math\\lib\\site-packages\\numpy\\core\\fromnumeric.py:86: RuntimeWarning: overflow encountered in reduce\n",
      "  return ufunc.reduce(obj, axis, dtype, out, **passkwargs)\n"
     ]
    },
    {
     "name": "stderr",
     "output_type": "stream",
     "text": [
      " 36%|███▌      | 328/907 [00:20<00:34, 16.72it/s]"
     ]
    },
    {
     "name": "stdout",
     "output_type": "stream",
     "text": [
      "c:\\Users\\ninag\\mambaforge\\envs\\math\\lib\\site-packages\\numpy\\core\\fromnumeric.py:86: RuntimeWarning: overflow encountered in reduce\n",
      "  return ufunc.reduce(obj, axis, dtype, out, **passkwargs)\n"
     ]
    },
    {
     "name": "stderr",
     "output_type": "stream",
     "text": [
      " 39%|███▉      | 358/907 [00:23<00:23, 23.18it/s]"
     ]
    },
    {
     "name": "stdout",
     "output_type": "stream",
     "text": [
      "c:\\Users\\ninag\\mambaforge\\envs\\math\\lib\\site-packages\\numpy\\core\\fromnumeric.py:86: RuntimeWarning: overflow encountered in reduce\n",
      "  return ufunc.reduce(obj, axis, dtype, out, **passkwargs)\n"
     ]
    },
    {
     "name": "stderr",
     "output_type": "stream",
     "text": [
      " 45%|████▍     | 405/907 [00:26<00:32, 15.52it/s]"
     ]
    },
    {
     "name": "stdout",
     "output_type": "stream",
     "text": [
      "c:\\Users\\ninag\\mambaforge\\envs\\math\\lib\\site-packages\\mordred\\_matrix_attributes.py:251: RuntimeWarning: divide by zero encountered in double_scalars\n",
      "  s += (eig.vec[i, eig.max] * eig.vec[j, eig.max]) ** -0.5\n"
     ]
    },
    {
     "name": "stderr",
     "output_type": "stream",
     "text": [
      " 46%|████▌     | 417/907 [00:26<00:30, 16.11it/s][12:45:36] WARNING: not removing hydrogen atom without neighbors\n",
      "[12:45:36] WARNING: not removing hydrogen atom without neighbors\n",
      "[12:45:36] WARNING: not removing hydrogen atom without neighbors\n",
      " 50%|█████     | 455/907 [00:30<00:39, 11.51it/s]"
     ]
    },
    {
     "name": "stdout",
     "output_type": "stream",
     "text": [
      "c:\\Users\\ninag\\mambaforge\\envs\\math\\lib\\site-packages\\numpy\\core\\fromnumeric.py:86: RuntimeWarning: overflow encountered in reduce\n",
      "  return ufunc.reduce(obj, axis, dtype, out, **passkwargs)\n"
     ]
    },
    {
     "name": "stderr",
     "output_type": "stream",
     "text": [
      " 51%|█████▏    | 465/907 [00:31<00:39, 11.11it/s]"
     ]
    },
    {
     "name": "stdout",
     "output_type": "stream",
     "text": [
      "c:\\Users\\ninag\\mambaforge\\envs\\math\\lib\\site-packages\\numpy\\core\\fromnumeric.py:86: RuntimeWarning: overflow encountered in reduce\n",
      "  return ufunc.reduce(obj, axis, dtype, out, **passkwargs)\n",
      "c:\\Users\\ninag\\mambaforge\\envs\\math\\lib\\site-packages\\numpy\\core\\fromnumeric.py:86: RuntimeWarning: overflow encountered in reduce\n",
      "  return ufunc.reduce(obj, axis, dtype, out, **passkwargs)\n"
     ]
    },
    {
     "name": "stderr",
     "output_type": "stream",
     "text": [
      " 62%|██████▏   | 564/907 [00:34<00:12, 28.30it/s][12:45:47] WARNING: not removing hydrogen atom without neighbors\n",
      "[12:45:47] WARNING: not removing hydrogen atom without neighbors\n",
      "[12:45:47] WARNING: not removing hydrogen atom without neighbors\n",
      " 64%|██████▍   | 581/907 [00:37<00:23, 13.64it/s][12:45:47] WARNING: not removing hydrogen atom without neighbors\n",
      "[12:45:47] WARNING: not removing hydrogen atom without neighbors\n",
      "[12:45:47] WARNING: not removing hydrogen atom without neighbors\n",
      " 74%|███████▍  | 671/907 [00:39<00:08, 26.62it/s]"
     ]
    },
    {
     "name": "stdout",
     "output_type": "stream",
     "text": [
      "c:\\Users\\ninag\\mambaforge\\envs\\math\\lib\\site-packages\\numpy\\core\\fromnumeric.py:86: RuntimeWarning: overflow encountered in reduce\n",
      "  return ufunc.reduce(obj, axis, dtype, out, **passkwargs)\n"
     ]
    },
    {
     "name": "stderr",
     "output_type": "stream",
     "text": [
      "100%|██████████| 907/907 [04:11<00:00,  3.61it/s]\n"
     ]
    }
   ],
   "source": [
    "# выгружаем дескрипторы для датафрейма, который содержит mol file\n",
    "df_molecular_desc = calc.pandas(df_yes['mol_file'])"
   ]
  },
  {
   "cell_type": "code",
   "execution_count": 11,
   "metadata": {},
   "outputs": [
    {
     "data": {
      "text/plain": [
       "(1334, 1617)"
      ]
     },
     "execution_count": 11,
     "metadata": {},
     "output_type": "execute_result"
    }
   ],
   "source": [
    "# объединяем датафреймы\n",
    "df_with_desc = pd.concat([df_yes, df_molecular_desc], axis=1)\n",
    "df_result = pd.concat([df_with_desc, df_nans])\n",
    "df_result.shape"
   ]
  },
  {
   "cell_type": "code",
   "execution_count": 12,
   "metadata": {},
   "outputs": [],
   "source": [
    "df_result.to_csv('db_descriptors_Mordred.csv', index=False)"
   ]
  },
  {
   "cell_type": "code",
   "execution_count": 15,
   "metadata": {},
   "outputs": [],
   "source": [
    "df_result.to_excel('db_descriptors_Mordred.xlsx', index=False)"
   ]
  }
 ],
 "metadata": {
  "kernelspec": {
   "display_name": "math",
   "language": "python",
   "name": "python3"
  },
  "language_info": {
   "codemirror_mode": {
    "name": "ipython",
    "version": 3
   },
   "file_extension": ".py",
   "mimetype": "text/x-python",
   "name": "python",
   "nbconvert_exporter": "python",
   "pygments_lexer": "ipython3",
   "version": "3.10.9"
  },
  "orig_nbformat": 4,
  "vscode": {
   "interpreter": {
    "hash": "05612b13c8311ce58c2785ccb3280eec41316d870365340c40a1f9dc8483cf04"
   }
  }
 },
 "nbformat": 4,
 "nbformat_minor": 2
}
