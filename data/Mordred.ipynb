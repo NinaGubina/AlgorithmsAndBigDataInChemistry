{
 "cells": [
  {
   "cell_type": "code",
   "execution_count": 1,
   "metadata": {},
   "outputs": [],
   "source": [
    "import numpy as np\n",
    "import pandas as pd\n",
    "from rdkit import Chem\n",
    "from mordred import Calculator, descriptors"
   ]
  },
  {
   "cell_type": "code",
   "execution_count": 2,
   "metadata": {},
   "outputs": [],
   "source": [
    "import warnings\n",
    "warnings.filterwarnings('ignore')"
   ]
  },
  {
   "cell_type": "code",
   "execution_count": 3,
   "metadata": {},
   "outputs": [
    {
     "data": {
      "text/html": [
       "<div>\n",
       "<style scoped>\n",
       "    .dataframe tbody tr th:only-of-type {\n",
       "        vertical-align: middle;\n",
       "    }\n",
       "\n",
       "    .dataframe tbody tr th {\n",
       "        vertical-align: top;\n",
       "    }\n",
       "\n",
       "    .dataframe thead th {\n",
       "        text-align: right;\n",
       "    }\n",
       "</style>\n",
       "<table border=\"1\" class=\"dataframe\">\n",
       "  <thead>\n",
       "    <tr style=\"text-align: right;\">\n",
       "      <th></th>\n",
       "      <th>Name</th>\n",
       "      <th>normalised_name</th>\n",
       "      <th>raw_value</th>\n",
       "      <th>mol_file</th>\n",
       "    </tr>\n",
       "  </thead>\n",
       "  <tbody>\n",
       "    <tr>\n",
       "      <th>0</th>\n",
       "      <td>As20S60Ge20</td>\n",
       "      <td>[['As', 20.0], ['Ge', 20.0], ['S', 60.0]]</td>\n",
       "      <td>2.054</td>\n",
       "      <td>NaN</td>\n",
       "    </tr>\n",
       "    <tr>\n",
       "      <th>1</th>\n",
       "      <td>PEO</td>\n",
       "      <td>OO</td>\n",
       "      <td>1.470</td>\n",
       "      <td>&lt;rdkit.Chem.rdchem.Mol object at 0x0000025F21E...</td>\n",
       "    </tr>\n",
       "    <tr>\n",
       "      <th>2</th>\n",
       "      <td>Sapphire</td>\n",
       "      <td>O=[Al]O[Al]=O</td>\n",
       "      <td>1.750</td>\n",
       "      <td>&lt;rdkit.Chem.rdchem.Mol object at 0x0000025F21E...</td>\n",
       "    </tr>\n",
       "  </tbody>\n",
       "</table>\n",
       "</div>"
      ],
      "text/plain": [
       "          Name                            normalised_name  raw_value  \\\n",
       "0  As20S60Ge20  [['As', 20.0], ['Ge', 20.0], ['S', 60.0]]      2.054   \n",
       "1          PEO                                         OO      1.470   \n",
       "2     Sapphire                              O=[Al]O[Al]=O      1.750   \n",
       "\n",
       "                                            mol_file  \n",
       "0                                                NaN  \n",
       "1  <rdkit.Chem.rdchem.Mol object at 0x0000025F21E...  \n",
       "2  <rdkit.Chem.rdchem.Mol object at 0x0000025F21E...  "
      ]
     },
     "execution_count": 3,
     "metadata": {},
     "output_type": "execute_result"
    }
   ],
   "source": [
    "# загружаем исходные данные\n",
    "df = pd.read_csv('6_result.csv')\n",
    "df.head(3)"
   ]
  },
  {
   "cell_type": "code",
   "execution_count": 4,
   "metadata": {},
   "outputs": [
    {
     "data": {
      "text/plain": [
       "(1245, 4)"
      ]
     },
     "execution_count": 4,
     "metadata": {},
     "output_type": "execute_result"
    }
   ],
   "source": [
    "# смотрим количество строк\n",
    "df.shape"
   ]
  },
  {
   "cell_type": "code",
   "execution_count": 5,
   "metadata": {},
   "outputs": [],
   "source": [
    "# задаем вычислитель дескрипторов\n",
    "calc = Calculator(descriptors, ignore_3D=True)"
   ]
  },
  {
   "cell_type": "code",
   "execution_count": 6,
   "metadata": {},
   "outputs": [
    {
     "data": {
      "text/plain": [
       "1613"
      ]
     },
     "execution_count": 6,
     "metadata": {},
     "output_type": "execute_result"
    }
   ],
   "source": [
    "# количество дескрипторов без использования 3d дескрипторов, то есть атомных координат\n",
    "len(calc.descriptors)"
   ]
  },
  {
   "cell_type": "code",
   "execution_count": null,
   "metadata": {},
   "outputs": [],
   "source": [
    "# добавляем в датафрем колонку mol файлов, для тех соединений, для которых это возможно сделать\n",
    "mols = [Chem.MolFromSmiles(smi) for smi in df['normalised_name'].tolist()]\n",
    "df['mol_file'] = mols"
   ]
  },
  {
   "cell_type": "code",
   "execution_count": 8,
   "metadata": {},
   "outputs": [
    {
     "data": {
      "text/plain": [
       "384"
      ]
     },
     "execution_count": 8,
     "metadata": {},
     "output_type": "execute_result"
    }
   ],
   "source": [
    "# число смайлс, для которых не был найден mol файл\n",
    "len(df.loc[df['mol_file'].isna()])"
   ]
  },
  {
   "cell_type": "code",
   "execution_count": 9,
   "metadata": {},
   "outputs": [],
   "source": [
    "# разбиваем датафрейм на части, которые содержат mol file и None\n",
    "df_nans = df.loc[df.mol_file.isna()]\n",
    "df_yes = df.loc[df.mol_file.notna()]"
   ]
  },
  {
   "cell_type": "code",
   "execution_count": 10,
   "metadata": {},
   "outputs": [
    {
     "name": "stderr",
     "output_type": "stream",
     "text": [
      "  3%|▎         | 27/861 [00:02<00:35, 23.44it/s]"
     ]
    },
    {
     "name": "stdout",
     "output_type": "stream",
     "text": [
      "c:\\Users\\ninag\\mambaforge\\envs\\math\\lib\\site-packages\\numpy\\core\\fromnumeric.py:86: RuntimeWarning: overflow encountered in reduce\n",
      "  return ufunc.reduce(obj, axis, dtype, out, **passkwargs)\n"
     ]
    },
    {
     "name": "stderr",
     "output_type": "stream",
     "text": [
      "  8%|▊         | 72/861 [00:02<00:17, 45.01it/s]"
     ]
    },
    {
     "name": "stdout",
     "output_type": "stream",
     "text": [
      "c:\\Users\\ninag\\mambaforge\\envs\\math\\lib\\site-packages\\numpy\\core\\fromnumeric.py:86: RuntimeWarning: overflow encountered in reduce\n",
      "  return ufunc.reduce(obj, axis, dtype, out, **passkwargs)\n"
     ]
    },
    {
     "name": "stderr",
     "output_type": "stream",
     "text": [
      " 16%|█▌        | 134/861 [00:12<01:06, 10.96it/s]"
     ]
    },
    {
     "name": "stdout",
     "output_type": "stream",
     "text": [
      "c:\\Users\\ninag\\mambaforge\\envs\\math\\lib\\site-packages\\numpy\\core\\fromnumeric.py:86: RuntimeWarning: overflow encountered in reduce\n",
      "  return ufunc.reduce(obj, axis, dtype, out, **passkwargs)\n",
      "c:\\Users\\ninag\\mambaforge\\envs\\math\\lib\\site-packages\\numpy\\core\\fromnumeric.py:86: RuntimeWarning: overflow encountered in reduce\n",
      "  return ufunc.reduce(obj, axis, dtype, out, **passkwargs)\n"
     ]
    },
    {
     "name": "stderr",
     "output_type": "stream",
     "text": [
      "[01:02:09] WARNING: not removing hydrogen atom without neighbors\n",
      "[01:02:09] WARNING: not removing hydrogen atom without neighbors\n",
      "[01:02:09] WARNING: not removing hydrogen atom without neighbors\n",
      " 18%|█▊        | 157/861 [00:12<00:48, 14.42it/s][01:02:10] WARNING: not removing hydrogen atom without neighbors\n",
      "[01:02:10] WARNING: not removing hydrogen atom without neighbors\n",
      "[01:02:10] WARNING: not removing hydrogen atom without neighbors\n",
      " 21%|██        | 178/861 [00:12<00:32, 20.78it/s]"
     ]
    },
    {
     "name": "stdout",
     "output_type": "stream",
     "text": [
      "c:\\Users\\ninag\\mambaforge\\envs\\math\\lib\\site-packages\\numpy\\core\\fromnumeric.py:86: RuntimeWarning: overflow encountered in reduce\n",
      "  return ufunc.reduce(obj, axis, dtype, out, **passkwargs)\n"
     ]
    },
    {
     "name": "stderr",
     "output_type": "stream",
     "text": [
      " 29%|██▉       | 249/861 [00:15<00:18, 33.07it/s]"
     ]
    },
    {
     "name": "stdout",
     "output_type": "stream",
     "text": [
      "c:\\Users\\ninag\\mambaforge\\envs\\math\\lib\\site-packages\\numpy\\core\\fromnumeric.py:86: RuntimeWarning: overflow encountered in reduce\n",
      "  return ufunc.reduce(obj, axis, dtype, out, **passkwargs)\n"
     ]
    },
    {
     "name": "stderr",
     "output_type": "stream",
     "text": [
      " 34%|███▍      | 297/861 [00:16<00:12, 43.86it/s]"
     ]
    },
    {
     "name": "stdout",
     "output_type": "stream",
     "text": [
      "c:\\Users\\ninag\\mambaforge\\envs\\math\\lib\\site-packages\\numpy\\core\\fromnumeric.py:86: RuntimeWarning: overflow encountered in reduce\n",
      "  return ufunc.reduce(obj, axis, dtype, out, **passkwargs)\n",
      "c:\\Users\\ninag\\mambaforge\\envs\\math\\lib\\site-packages\\numpy\\core\\fromnumeric.py:86: RuntimeWarning: overflow encountered in reduce\n",
      "  return ufunc.reduce(obj, axis, dtype, out, **passkwargs)\n"
     ]
    },
    {
     "name": "stderr",
     "output_type": "stream",
     "text": [
      " 36%|███▌      | 312/861 [00:17<00:17, 30.99it/s]"
     ]
    },
    {
     "name": "stdout",
     "output_type": "stream",
     "text": [
      "c:\\Users\\ninag\\mambaforge\\envs\\math\\lib\\site-packages\\numpy\\core\\fromnumeric.py:86: RuntimeWarning: overflow encountered in reduce\n",
      "  return ufunc.reduce(obj, axis, dtype, out, **passkwargs)\n"
     ]
    },
    {
     "name": "stderr",
     "output_type": "stream",
     "text": [
      " 39%|███▉      | 336/861 [00:19<00:19, 26.89it/s]"
     ]
    },
    {
     "name": "stdout",
     "output_type": "stream",
     "text": [
      "c:\\Users\\ninag\\mambaforge\\envs\\math\\lib\\site-packages\\numpy\\core\\fromnumeric.py:86: RuntimeWarning: overflow encountered in reduce\n",
      "  return ufunc.reduce(obj, axis, dtype, out, **passkwargs)\n"
     ]
    },
    {
     "name": "stderr",
     "output_type": "stream",
     "text": [
      " 40%|███▉      | 341/861 [00:22<01:07,  7.68it/s]"
     ]
    },
    {
     "name": "stdout",
     "output_type": "stream",
     "text": [
      "c:\\Users\\ninag\\mambaforge\\envs\\math\\lib\\site-packages\\mordred\\_matrix_attributes.py:251: RuntimeWarning: divide by zero encountered in double_scalars\n",
      "  s += (eig.vec[i, eig.max] * eig.vec[j, eig.max]) ** -0.5\n"
     ]
    },
    {
     "name": "stderr",
     "output_type": "stream",
     "text": [
      " 45%|████▌     | 388/861 [00:23<00:28, 16.70it/s][01:02:20] WARNING: not removing hydrogen atom without neighbors\n",
      "[01:02:20] WARNING: not removing hydrogen atom without neighbors\n",
      "[01:02:20] WARNING: not removing hydrogen atom without neighbors\n",
      " 50%|████▉     | 429/861 [00:26<00:32, 13.11it/s]"
     ]
    },
    {
     "name": "stdout",
     "output_type": "stream",
     "text": [
      "c:\\Users\\ninag\\mambaforge\\envs\\math\\lib\\site-packages\\numpy\\core\\fromnumeric.py:86: RuntimeWarning: overflow encountered in reduce\n",
      "  return ufunc.reduce(obj, axis, dtype, out, **passkwargs)\n"
     ]
    },
    {
     "name": "stderr",
     "output_type": "stream",
     "text": [
      " 54%|█████▍    | 464/861 [00:27<00:19, 20.66it/s]"
     ]
    },
    {
     "name": "stdout",
     "output_type": "stream",
     "text": [
      "c:\\Users\\ninag\\mambaforge\\envs\\math\\lib\\site-packages\\numpy\\core\\fromnumeric.py:86: RuntimeWarning: overflow encountered in reduce\n",
      "  return ufunc.reduce(obj, axis, dtype, out, **passkwargs)\n"
     ]
    },
    {
     "name": "stderr",
     "output_type": "stream",
     "text": [
      " 59%|█████▊    | 505/861 [00:29<00:25, 14.16it/s]"
     ]
    },
    {
     "name": "stdout",
     "output_type": "stream",
     "text": [
      "c:\\Users\\ninag\\mambaforge\\envs\\math\\lib\\site-packages\\numpy\\core\\fromnumeric.py:86: RuntimeWarning: overflow encountered in reduce\n",
      "  return ufunc.reduce(obj, axis, dtype, out, **passkwargs)\n"
     ]
    },
    {
     "name": "stderr",
     "output_type": "stream",
     "text": [
      " 62%|██████▏   | 537/861 [00:31<00:19, 16.26it/s][01:02:29] WARNING: not removing hydrogen atom without neighbors\n",
      "[01:02:29] WARNING: not removing hydrogen atom without neighbors\n",
      "[01:02:29] WARNING: not removing hydrogen atom without neighbors\n",
      "[01:02:29] WARNING: not removing hydrogen atom without neighbors\n",
      "[01:02:29] WARNING: not removing hydrogen atom without neighbors\n",
      "[01:02:29] WARNING: not removing hydrogen atom without neighbors\n",
      " 81%|████████▏ | 701/861 [03:58<03:28,  1.30s/it]"
     ]
    },
    {
     "name": "stdout",
     "output_type": "stream",
     "text": [
      "c:\\Users\\ninag\\mambaforge\\envs\\math\\lib\\site-packages\\numpy\\core\\fromnumeric.py:86: RuntimeWarning: overflow encountered in reduce\n",
      "  return ufunc.reduce(obj, axis, dtype, out, **passkwargs)\n"
     ]
    },
    {
     "name": "stderr",
     "output_type": "stream",
     "text": [
      "100%|██████████| 861/861 [04:02<00:00,  3.55it/s]\n"
     ]
    },
    {
     "data": {
      "text/html": [
       "<div>\n",
       "<style scoped>\n",
       "    .dataframe tbody tr th:only-of-type {\n",
       "        vertical-align: middle;\n",
       "    }\n",
       "\n",
       "    .dataframe tbody tr th {\n",
       "        vertical-align: top;\n",
       "    }\n",
       "\n",
       "    .dataframe thead th {\n",
       "        text-align: right;\n",
       "    }\n",
       "</style>\n",
       "<table border=\"1\" class=\"dataframe\">\n",
       "  <thead>\n",
       "    <tr style=\"text-align: right;\">\n",
       "      <th></th>\n",
       "      <th>ABC</th>\n",
       "      <th>ABCGG</th>\n",
       "      <th>nAcid</th>\n",
       "      <th>nBase</th>\n",
       "      <th>SpAbs_A</th>\n",
       "      <th>SpMax_A</th>\n",
       "      <th>SpDiam_A</th>\n",
       "      <th>SpAD_A</th>\n",
       "      <th>SpMAD_A</th>\n",
       "      <th>LogEE_A</th>\n",
       "      <th>...</th>\n",
       "      <th>SRW10</th>\n",
       "      <th>TSRW10</th>\n",
       "      <th>MW</th>\n",
       "      <th>AMW</th>\n",
       "      <th>WPath</th>\n",
       "      <th>WPol</th>\n",
       "      <th>Zagreb1</th>\n",
       "      <th>Zagreb2</th>\n",
       "      <th>mZagreb1</th>\n",
       "      <th>mZagreb2</th>\n",
       "    </tr>\n",
       "  </thead>\n",
       "  <tbody>\n",
       "    <tr>\n",
       "      <th>1</th>\n",
       "      <td>0.000000</td>\n",
       "      <td>0.000000</td>\n",
       "      <td>0</td>\n",
       "      <td>0</td>\n",
       "      <td>2.0</td>\n",
       "      <td>1.0</td>\n",
       "      <td>2.0</td>\n",
       "      <td>2.0</td>\n",
       "      <td>1.0</td>\n",
       "      <td>1.407606</td>\n",
       "      <td>...</td>\n",
       "      <td>1.098612</td>\n",
       "      <td>7.493061</td>\n",
       "      <td>34.005479</td>\n",
       "      <td>8.501370</td>\n",
       "      <td>1</td>\n",
       "      <td>0</td>\n",
       "      <td>2.0</td>\n",
       "      <td>1.0</td>\n",
       "      <td>2.0</td>\n",
       "      <td>1.000000</td>\n",
       "    </tr>\n",
       "    <tr>\n",
       "      <th>2</th>\n",
       "      <td>2.828427</td>\n",
       "      <td>3.146264</td>\n",
       "      <td>0</td>\n",
       "      <td>0</td>\n",
       "      <td>5.464102</td>\n",
       "      <td>1.732051</td>\n",
       "      <td>3.464102</td>\n",
       "      <td>5.464102</td>\n",
       "      <td>1.09282</td>\n",
       "      <td>2.390167</td>\n",
       "      <td>...</td>\n",
       "      <td>6.192362</td>\n",
       "      <td>25.583106</td>\n",
       "      <td>101.947821</td>\n",
       "      <td>20.389564</td>\n",
       "      <td>20</td>\n",
       "      <td>2</td>\n",
       "      <td>14.0</td>\n",
       "      <td>12.0</td>\n",
       "      <td>2.75</td>\n",
       "      <td>1.500000</td>\n",
       "    </tr>\n",
       "    <tr>\n",
       "      <th>3</th>\n",
       "      <td>4.242641</td>\n",
       "      <td>4.000000</td>\n",
       "      <td>0</td>\n",
       "      <td>0</td>\n",
       "      <td>8.0</td>\n",
       "      <td>2.0</td>\n",
       "      <td>4.0</td>\n",
       "      <td>8.0</td>\n",
       "      <td>1.333333</td>\n",
       "      <td>2.687624</td>\n",
       "      <td>...</td>\n",
       "      <td>7.627057</td>\n",
       "      <td>30.941317</td>\n",
       "      <td>138.961807</td>\n",
       "      <td>13.896181</td>\n",
       "      <td>27</td>\n",
       "      <td>3</td>\n",
       "      <td>24.0</td>\n",
       "      <td>24.0</td>\n",
       "      <td>1.5</td>\n",
       "      <td>1.500000</td>\n",
       "    </tr>\n",
       "    <tr>\n",
       "      <th>4</th>\n",
       "      <td>4.530370</td>\n",
       "      <td>5.004088</td>\n",
       "      <td>0</td>\n",
       "      <td>0</td>\n",
       "      <td>7.662988</td>\n",
       "      <td>2.052881</td>\n",
       "      <td>4.105762</td>\n",
       "      <td>7.662988</td>\n",
       "      <td>1.094713</td>\n",
       "      <td>2.766317</td>\n",
       "      <td>...</td>\n",
       "      <td>7.890957</td>\n",
       "      <td>32.688753</td>\n",
       "      <td>101.060255</td>\n",
       "      <td>6.316266</td>\n",
       "      <td>46</td>\n",
       "      <td>6</td>\n",
       "      <td>26.0</td>\n",
       "      <td>26.0</td>\n",
       "      <td>4.472222</td>\n",
       "      <td>1.777778</td>\n",
       "    </tr>\n",
       "    <tr>\n",
       "      <th>5</th>\n",
       "      <td>4.012290</td>\n",
       "      <td>4.284816</td>\n",
       "      <td>1</td>\n",
       "      <td>0</td>\n",
       "      <td>5.818626</td>\n",
       "      <td>2.074313</td>\n",
       "      <td>4.148627</td>\n",
       "      <td>5.818626</td>\n",
       "      <td>0.969771</td>\n",
       "      <td>2.626363</td>\n",
       "      <td>...</td>\n",
       "      <td>7.989899</td>\n",
       "      <td>31.665095</td>\n",
       "      <td>110.975753</td>\n",
       "      <td>12.330639</td>\n",
       "      <td>28</td>\n",
       "      <td>3</td>\n",
       "      <td>24.0</td>\n",
       "      <td>22.0</td>\n",
       "      <td>4.3125</td>\n",
       "      <td>1.375000</td>\n",
       "    </tr>\n",
       "    <tr>\n",
       "      <th>...</th>\n",
       "      <td>...</td>\n",
       "      <td>...</td>\n",
       "      <td>...</td>\n",
       "      <td>...</td>\n",
       "      <td>...</td>\n",
       "      <td>...</td>\n",
       "      <td>...</td>\n",
       "      <td>...</td>\n",
       "      <td>...</td>\n",
       "      <td>...</td>\n",
       "      <td>...</td>\n",
       "      <td>...</td>\n",
       "      <td>...</td>\n",
       "      <td>...</td>\n",
       "      <td>...</td>\n",
       "      <td>...</td>\n",
       "      <td>...</td>\n",
       "      <td>...</td>\n",
       "      <td>...</td>\n",
       "      <td>...</td>\n",
       "      <td>...</td>\n",
       "    </tr>\n",
       "    <tr>\n",
       "      <th>1237</th>\n",
       "      <td>3.464102</td>\n",
       "      <td>3.464102</td>\n",
       "      <td>0</td>\n",
       "      <td>0</td>\n",
       "      <td>4.0</td>\n",
       "      <td>2.0</td>\n",
       "      <td>4.0</td>\n",
       "      <td>4.0</td>\n",
       "      <td>0.8</td>\n",
       "      <td>2.444466</td>\n",
       "      <td>...</td>\n",
       "      <td>7.625107</td>\n",
       "      <td>29.418928</td>\n",
       "      <td>85.965909</td>\n",
       "      <td>17.193182</td>\n",
       "      <td>16</td>\n",
       "      <td>0</td>\n",
       "      <td>20.0</td>\n",
       "      <td>16.0</td>\n",
       "      <td>4.0625</td>\n",
       "      <td>1.000000</td>\n",
       "    </tr>\n",
       "    <tr>\n",
       "      <th>1239</th>\n",
       "      <td>5.168527</td>\n",
       "      <td>5.361851</td>\n",
       "      <td>1</td>\n",
       "      <td>0</td>\n",
       "      <td>8.762573</td>\n",
       "      <td>1.949856</td>\n",
       "      <td>3.899712</td>\n",
       "      <td>8.762573</td>\n",
       "      <td>1.095322</td>\n",
       "      <td>2.887985</td>\n",
       "      <td>...</td>\n",
       "      <td>7.475906</td>\n",
       "      <td>33.090360</td>\n",
       "      <td>115.076453</td>\n",
       "      <td>6.056655</td>\n",
       "      <td>79</td>\n",
       "      <td>5</td>\n",
       "      <td>28.0</td>\n",
       "      <td>26.0</td>\n",
       "      <td>4.111111</td>\n",
       "      <td>2.083333</td>\n",
       "    </tr>\n",
       "    <tr>\n",
       "      <th>1241</th>\n",
       "      <td>0.000000</td>\n",
       "      <td>0.000000</td>\n",
       "      <td>1</td>\n",
       "      <td>0</td>\n",
       "      <td>multiple fragments (SpAbs_A/SpAbs)</td>\n",
       "      <td>multiple fragments (SpMax_A/SpMax)</td>\n",
       "      <td>multiple fragments (SpDiam_A/SpDiam)</td>\n",
       "      <td>multiple fragments (SpAD_A/SpAD)</td>\n",
       "      <td>multiple fragments (SpMAD_A/SpMAD)</td>\n",
       "      <td>multiple fragments (LogEE_A/LogEE)</td>\n",
       "      <td>...</td>\n",
       "      <td>0.000000</td>\n",
       "      <td>3.000000</td>\n",
       "      <td>59.979193</td>\n",
       "      <td>14.994798</td>\n",
       "      <td>300000000</td>\n",
       "      <td>0</td>\n",
       "      <td>0.0</td>\n",
       "      <td>0.0</td>\n",
       "      <td>divide by zero encountered in power (mZagreb1)</td>\n",
       "      <td>0.000000</td>\n",
       "    </tr>\n",
       "    <tr>\n",
       "      <th>1243</th>\n",
       "      <td>22.362518</td>\n",
       "      <td>16.569947</td>\n",
       "      <td>0</td>\n",
       "      <td>1</td>\n",
       "      <td>36.178499</td>\n",
       "      <td>2.574837</td>\n",
       "      <td>5.149367</td>\n",
       "      <td>36.178499</td>\n",
       "      <td>1.247534</td>\n",
       "      <td>4.291164</td>\n",
       "      <td>...</td>\n",
       "      <td>10.479342</td>\n",
       "      <td>64.945424</td>\n",
       "      <td>477.018428</td>\n",
       "      <td>9.937884</td>\n",
       "      <td>2131</td>\n",
       "      <td>47</td>\n",
       "      <td>150.0</td>\n",
       "      <td>177.0</td>\n",
       "      <td>10.972222</td>\n",
       "      <td>6.388889</td>\n",
       "    </tr>\n",
       "    <tr>\n",
       "      <th>1244</th>\n",
       "      <td>10.606602</td>\n",
       "      <td>9.010468</td>\n",
       "      <td>0</td>\n",
       "      <td>0</td>\n",
       "      <td>19.675903</td>\n",
       "      <td>1.965946</td>\n",
       "      <td>3.931892</td>\n",
       "      <td>19.675903</td>\n",
       "      <td>1.229744</td>\n",
       "      <td>3.583262</td>\n",
       "      <td>...</td>\n",
       "      <td>8.089789</td>\n",
       "      <td>44.454249</td>\n",
       "      <td>230.224580</td>\n",
       "      <td>5.004882</td>\n",
       "      <td>680</td>\n",
       "      <td>13</td>\n",
       "      <td>58.0</td>\n",
       "      <td>56.0</td>\n",
       "      <td>5.5</td>\n",
       "      <td>4.250000</td>\n",
       "    </tr>\n",
       "  </tbody>\n",
       "</table>\n",
       "<p>861 rows × 1613 columns</p>\n",
       "</div>"
      ],
      "text/plain": [
       "            ABC      ABCGG  nAcid  nBase                             SpAbs_A  \\\n",
       "1      0.000000   0.000000      0      0                                 2.0   \n",
       "2      2.828427   3.146264      0      0                            5.464102   \n",
       "3      4.242641   4.000000      0      0                                 8.0   \n",
       "4      4.530370   5.004088      0      0                            7.662988   \n",
       "5      4.012290   4.284816      1      0                            5.818626   \n",
       "...         ...        ...    ...    ...                                 ...   \n",
       "1237   3.464102   3.464102      0      0                                 4.0   \n",
       "1239   5.168527   5.361851      1      0                            8.762573   \n",
       "1241   0.000000   0.000000      1      0  multiple fragments (SpAbs_A/SpAbs)   \n",
       "1243  22.362518  16.569947      0      1                           36.178499   \n",
       "1244  10.606602   9.010468      0      0                           19.675903   \n",
       "\n",
       "                                 SpMax_A  \\\n",
       "1                                    1.0   \n",
       "2                               1.732051   \n",
       "3                                    2.0   \n",
       "4                               2.052881   \n",
       "5                               2.074313   \n",
       "...                                  ...   \n",
       "1237                                 2.0   \n",
       "1239                            1.949856   \n",
       "1241  multiple fragments (SpMax_A/SpMax)   \n",
       "1243                            2.574837   \n",
       "1244                            1.965946   \n",
       "\n",
       "                                  SpDiam_A                            SpAD_A  \\\n",
       "1                                      2.0                               2.0   \n",
       "2                                 3.464102                          5.464102   \n",
       "3                                      4.0                               8.0   \n",
       "4                                 4.105762                          7.662988   \n",
       "5                                 4.148627                          5.818626   \n",
       "...                                    ...                               ...   \n",
       "1237                                   4.0                               4.0   \n",
       "1239                              3.899712                          8.762573   \n",
       "1241  multiple fragments (SpDiam_A/SpDiam)  multiple fragments (SpAD_A/SpAD)   \n",
       "1243                              5.149367                         36.178499   \n",
       "1244                              3.931892                         19.675903   \n",
       "\n",
       "                                 SpMAD_A                             LogEE_A  \\\n",
       "1                                    1.0                            1.407606   \n",
       "2                                1.09282                            2.390167   \n",
       "3                               1.333333                            2.687624   \n",
       "4                               1.094713                            2.766317   \n",
       "5                               0.969771                            2.626363   \n",
       "...                                  ...                                 ...   \n",
       "1237                                 0.8                            2.444466   \n",
       "1239                            1.095322                            2.887985   \n",
       "1241  multiple fragments (SpMAD_A/SpMAD)  multiple fragments (LogEE_A/LogEE)   \n",
       "1243                            1.247534                            4.291164   \n",
       "1244                            1.229744                            3.583262   \n",
       "\n",
       "      ...      SRW10     TSRW10          MW        AMW      WPath WPol  \\\n",
       "1     ...   1.098612   7.493061   34.005479   8.501370          1    0   \n",
       "2     ...   6.192362  25.583106  101.947821  20.389564         20    2   \n",
       "3     ...   7.627057  30.941317  138.961807  13.896181         27    3   \n",
       "4     ...   7.890957  32.688753  101.060255   6.316266         46    6   \n",
       "5     ...   7.989899  31.665095  110.975753  12.330639         28    3   \n",
       "...   ...        ...        ...         ...        ...        ...  ...   \n",
       "1237  ...   7.625107  29.418928   85.965909  17.193182         16    0   \n",
       "1239  ...   7.475906  33.090360  115.076453   6.056655         79    5   \n",
       "1241  ...   0.000000   3.000000   59.979193  14.994798  300000000    0   \n",
       "1243  ...  10.479342  64.945424  477.018428   9.937884       2131   47   \n",
       "1244  ...   8.089789  44.454249  230.224580   5.004882        680   13   \n",
       "\n",
       "      Zagreb1  Zagreb2                                        mZagreb1  \\\n",
       "1         2.0      1.0                                             2.0   \n",
       "2        14.0     12.0                                            2.75   \n",
       "3        24.0     24.0                                             1.5   \n",
       "4        26.0     26.0                                        4.472222   \n",
       "5        24.0     22.0                                          4.3125   \n",
       "...       ...      ...                                             ...   \n",
       "1237     20.0     16.0                                          4.0625   \n",
       "1239     28.0     26.0                                        4.111111   \n",
       "1241      0.0      0.0  divide by zero encountered in power (mZagreb1)   \n",
       "1243    150.0    177.0                                       10.972222   \n",
       "1244     58.0     56.0                                             5.5   \n",
       "\n",
       "      mZagreb2  \n",
       "1     1.000000  \n",
       "2     1.500000  \n",
       "3     1.500000  \n",
       "4     1.777778  \n",
       "5     1.375000  \n",
       "...        ...  \n",
       "1237  1.000000  \n",
       "1239  2.083333  \n",
       "1241  0.000000  \n",
       "1243  6.388889  \n",
       "1244  4.250000  \n",
       "\n",
       "[861 rows x 1613 columns]"
      ]
     },
     "execution_count": 10,
     "metadata": {},
     "output_type": "execute_result"
    }
   ],
   "source": [
    "# выгружаем дескрипторы для датафрейма, который содержит mol file\n",
    "df_molecular_desc = calc.pandas(df_yes['mol_file'])"
   ]
  },
  {
   "cell_type": "code",
   "execution_count": 11,
   "metadata": {},
   "outputs": [
    {
     "data": {
      "text/plain": [
       "(1245, 1617)"
      ]
     },
     "execution_count": 11,
     "metadata": {},
     "output_type": "execute_result"
    }
   ],
   "source": [
    "# объединяем датафреймы\n",
    "df_with_desc = pd.concat([df_yes, df_molecular_desc], axis=1)\n",
    "df_result = pd.concat([df_with_desc, df_nans])\n",
    "df_result.shape"
   ]
  },
  {
   "cell_type": "code",
   "execution_count": 12,
   "metadata": {},
   "outputs": [],
   "source": [
    "df_result.to_csv('db_descriptors_Mordred.csv', index=False)"
   ]
  }
 ],
 "metadata": {
  "kernelspec": {
   "display_name": "math",
   "language": "python",
   "name": "python3"
  },
  "language_info": {
   "codemirror_mode": {
    "name": "ipython",
    "version": 3
   },
   "file_extension": ".py",
   "mimetype": "text/x-python",
   "name": "python",
   "nbconvert_exporter": "python",
   "pygments_lexer": "ipython3",
   "version": "3.10.9"
  },
  "orig_nbformat": 4,
  "vscode": {
   "interpreter": {
    "hash": "05612b13c8311ce58c2785ccb3280eec41316d870365340c40a1f9dc8483cf04"
   }
  }
 },
 "nbformat": 4,
 "nbformat_minor": 2
}
