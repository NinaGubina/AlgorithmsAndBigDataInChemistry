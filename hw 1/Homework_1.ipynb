{
 "cells": [
  {
   "cell_type": "code",
   "execution_count": 3,
   "metadata": {},
   "outputs": [],
   "source": [
    "import pandas as pd\n",
    "import numpy as np\n",
    "import pickle as pi\n",
    "import plotly.express as px\n",
    "import requests\n",
    "import itertools\n",
    "import random\n",
    "\n",
    "from IPython.display import Image\n",
    "\n",
    "from rdkit import Chem\n",
    "from rdkit.Chem import Descriptors\n",
    "from rdkit.ML.Descriptors import MoleculeDescriptors\n",
    "\n",
    "from mordred import Calculator, descriptors\n",
    "\n",
    "import pubchempy as pcp\n",
    "\n",
    "#from mp_api.client import MPRester\n",
    "\n",
    "from sklearn.impute import KNNImputer\n",
    "from sklearn.preprocessing import MinMaxScaler"
   ]
  },
  {
   "cell_type": "code",
   "execution_count": 27,
   "metadata": {},
   "outputs": [],
   "source": [
    "import warnings\n",
    "warnings.filterwarnings('ignore')"
   ]
  },
  {
   "cell_type": "code",
   "execution_count": 3,
   "metadata": {},
   "outputs": [],
   "source": [
    "df = pd.read_csv('6.csv')"
   ]
  },
  {
   "cell_type": "markdown",
   "metadata": {},
   "source": [
    "#### Checking for gaps"
   ]
  },
  {
   "cell_type": "markdown",
   "metadata": {},
   "source": [
    "Let's see how many Nan are in each column"
   ]
  },
  {
   "cell_type": "code",
   "execution_count": 7,
   "metadata": {},
   "outputs": [
    {
     "name": "stdout",
     "output_type": "stream",
     "text": [
      "DOI 0\n",
      "Date 412\n",
      "Journal 412\n",
      "Title 412\n",
      "Name 5\n",
      "measurement_error 0\n",
      "measurement_wavelength 4443\n",
      "measurement_method 0\n",
      "normalised_name 1993\n",
      "raw_value 0\n",
      "specifier 0\n"
     ]
    }
   ],
   "source": [
    "column_names = df.columns.tolist()\n",
    "for i in range(len(column_names)):\n",
    "    print(column_names[i], df[column_names[i]].isna().sum())"
   ]
  },
  {
   "cell_type": "markdown",
   "metadata": {},
   "source": [
    "As we can see, the 'Date', 'Journal', and 'Title' columns have gaps, but since this data is not important, they will not be filled in. \n",
    "\n",
    "The measurement_wavelength column is practically empty, so it is also supposed to be removed in the future. The main goal at the moment is to fill in the normalised_name column for further unloading of descriptors.\n",
    "\n",
    "It is important that the target value raw_value has no gaps."
   ]
  },
  {
   "cell_type": "markdown",
   "metadata": {},
   "source": [
    "Let's check if there are rows that do not contain data in both Name and normalised_name columns at the same time"
   ]
  },
  {
   "cell_type": "code",
   "execution_count": 6,
   "metadata": {},
   "outputs": [
    {
     "name": "stdout",
     "output_type": "stream",
     "text": [
      "No rows with missing values in the 'Name' and 'normalised_name' columns at the same time\n"
     ]
    }
   ],
   "source": [
    "# select rows that have no values in the \"Name\" and \"normalised_name\" columns at the same time\n",
    "missing_values = df[(df['Name'].isnull()) & (df['normalised_name'].isnull())]\n",
    "\n",
    "if len(missing_values) > 0:\n",
    "    print(\"There are rows where the 'Name' and 'normalised_name' columns are missing at the same time:\")\n",
    "    print(missing_values)\n",
    "else:\n",
    "    print(\"No rows with missing values in the 'Name' and 'normalised_name' columns at the same time\")"
   ]
  },
  {
   "cell_type": "markdown",
   "metadata": {},
   "source": [
    "#### Filling in gaps in 'Name'"
   ]
  },
  {
   "cell_type": "markdown",
   "metadata": {},
   "source": [
    "Let's make a list of missing 'Name'."
   ]
  },
  {
   "cell_type": "code",
   "execution_count": 4,
   "metadata": {},
   "outputs": [
    {
     "name": "stdout",
     "output_type": "stream",
     "text": [
      "The number of missing values in the Name: 5\n",
      "[[3060, 'CC(=C)C1CCC(=CC1)C'], [3065, 'CC(C)O'], [3081, 'CCCCCCCCC'], [3097, 'Nc1ccccc1'], [3136, 'C1CCCCC1']]\n"
     ]
    }
   ],
   "source": [
    "# selection of row indexes with missing values in the 'Name' column\n",
    "indexes_null_name = df[df['Name'].isnull()].index.tolist()\n",
    "\n",
    "# creating a list of values from the Name column by indexes from indexes_null_name\n",
    "null_name = df.loc[indexes_null_name, 'normalised_name'].tolist()\n",
    "\n",
    "null_name_list = [[x, y] for x, y in zip(indexes_null_name, null_name)]\n",
    "print('The number of missing values in the Name:', len(null_name_list))\n",
    "print(null_name_list)"
   ]
  },
  {
   "cell_type": "markdown",
   "metadata": {},
   "source": [
    "Now we can fill gaps in the 'Name' column using null_name_list."
   ]
  },
  {
   "cell_type": "code",
   "execution_count": 7,
   "metadata": {},
   "outputs": [
    {
     "name": "stdout",
     "output_type": "stream",
     "text": [
      "1-methyl-4-prop-1-en-2-ylcyclohexene\n",
      "Propan-2-ol\n",
      "Nonane\n",
      "Aniline\n",
      "Cyclohexane\n"
     ]
    }
   ],
   "source": [
    "Cactus = \"https://cactus.nci.nih.gov/chemical/structure/{0}/{1}\"\n",
    "\n",
    "def smiles_to_iupac(smiles): \n",
    "    url = Cactus.format(smiles, \"iupac_name\")\n",
    "    response = requests.get(url)\n",
    "    response.raise_for_status()\n",
    "    return response.text\n",
    "\n",
    "for i in range(len(null_name_list)):\n",
    "    iupac_name = smiles_to_iupac(null_name_list[i][1])\n",
    "    print(iupac_name)\n",
    "    df.loc[null_name_list[i][0], 'Name'] = iupac_name"
   ]
  },
  {
   "cell_type": "code",
   "execution_count": 8,
   "metadata": {},
   "outputs": [
    {
     "name": "stdout",
     "output_type": "stream",
     "text": [
      "<class 'pandas.core.frame.DataFrame'>\n",
      "RangeIndex: 5000 entries, 0 to 4999\n",
      "Data columns (total 11 columns):\n",
      " #   Column                  Non-Null Count  Dtype  \n",
      "---  ------                  --------------  -----  \n",
      " 0   DOI                     5000 non-null   object \n",
      " 1   Date                    4588 non-null   object \n",
      " 2   Journal                 4588 non-null   object \n",
      " 3   Title                   4588 non-null   object \n",
      " 4   Name                    5000 non-null   object \n",
      " 5   measurement_error       5000 non-null   float64\n",
      " 6   measurement_wavelength  557 non-null    object \n",
      " 7   measurement_method      5000 non-null   object \n",
      " 8   normalised_name         3007 non-null   object \n",
      " 9   raw_value               5000 non-null   object \n",
      " 10  specifier               5000 non-null   object \n",
      "dtypes: float64(1), object(10)\n",
      "memory usage: 429.8+ KB\n"
     ]
    }
   ],
   "source": [
    "df.info()"
   ]
  },
  {
   "cell_type": "markdown",
   "metadata": {},
   "source": [
    "Using Cactus, we filled in the gaps in the 'Name' column, now we have all 5000 names."
   ]
  },
  {
   "cell_type": "markdown",
   "metadata": {},
   "source": [
    "#### Filling in gaps in 'normalised_name'"
   ]
  },
  {
   "cell_type": "markdown",
   "metadata": {},
   "source": [
    "Now we can use names of compounds to obtain smiles."
   ]
  },
  {
   "cell_type": "markdown",
   "metadata": {},
   "source": [
    "Main idea: using different libraries to get a list of all smiles, then select the most common smiles.\n",
    "\n",
    "If there are several smiles with the same occurrence, then fill in the cell, for example, \"smiles1 or smiles2\" and \"smiles1 or smiles2 or smiles3\"."
   ]
  },
  {
   "cell_type": "markdown",
   "metadata": {},
   "source": [
    "First of all, let's write a code to print the most common smiles of list.\n",
    "Keep in mind:\n",
    "1) that some libraries cannot find smiles, then the list may contain 1 or more items None;\n",
    "2) some cells already contain smiles, but we are not sure if they were found correctly, so such smiles should also be counted in the list to check their occurrence."
   ]
  },
  {
   "cell_type": "code",
   "execution_count": 30,
   "metadata": {
    "scrolled": true
   },
   "outputs": [
    {
     "name": "stdout",
     "output_type": "stream",
     "text": [
      "\n",
      "Random combination:\n",
      "(None, 5, None, 5, 1, 1)\n",
      "The most common elements are: 5 или 1\n"
     ]
    }
   ],
   "source": [
    "# This example works\n",
    "\n",
    "# Create a list of items that may occur\n",
    "elements = [None, 1, 2, 3, 4, 5, 6]\n",
    "\n",
    "# create a list of all possible combinations of length 6\n",
    "# max length is 6 (5 libriries + smiles in the cell)\n",
    "combinations = list(itertools.product(elements, repeat=6))\n",
    "\n",
    "# choose one random combination from the list\n",
    "random_combination = random.choice(combinations)\n",
    "\n",
    "# output the selected random combination\n",
    "print(\"\\nRandom combination:\")\n",
    "print(random_combination)\n",
    "\n",
    "# check that the combination contains elements other than None\n",
    "if all(element is None for element in random_combination):\n",
    "    print(\"содержит только элементы со значением None\")\n",
    "else:\n",
    "#   count the occurrence of each element in the combination\n",
    "    element_counts = {}\n",
    "    for element in random_combination:\n",
    "        if element is not None:\n",
    "            element_counts[element] = element_counts.get(element, 0) + 1\n",
    "\n",
    "#   output the most frequently encountered element or elements, if there are several of them\n",
    "    max_count = max(element_counts.values())\n",
    "    most_common_elements = [k for k, v in element_counts.items() if v == max_count]\n",
    "    if len(most_common_elements) == 1:\n",
    "        print(f\"The most common element is: {most_common_elements[0]}\")\n",
    "    else:\n",
    "        print(f\"The most common elements are: {' или '.join(map(str, most_common_elements))}\")"
   ]
  },
  {
   "cell_type": "markdown",
   "metadata": {},
   "source": [
    "Now we can use this example to fill 'normalised_name' correctly."
   ]
  },
  {
   "cell_type": "code",
   "execution_count": null,
   "metadata": {},
   "outputs": [],
   "source": [
    "# When parsing smiles, we learned that different resources can find smiles in different ways, or not at all\n",
    "# For instance, for PbS can find smiles for PBS compound\n",
    "\n",
    "# We will use 5 resources to find smiles and select the most popular version of smiles to avoid this problem\n",
    "\n",
    "# if cell has a smile, we append it in the w8_list_smiles list\n",
    "for index, row in df.iterrows():\n",
    "    print('Substance Index:', index)\n",
    "    if pd.notna(row['normalised_name']):\n",
    "        w8_list_smiles = []\n",
    "        w8_list_smiles.append(row['normalised_name'])\n",
    "    else:\n",
    "        w8_list_smiles = []\n",
    "    \n",
    "#   use PubChem Identifier Exchange Service\n",
    "    response = requests.get(f'https://pubchem.ncbi.nlm.nih.gov/rest/pug/compound/name/{row[\"Name\"]}/property/CanonicalSMILES/json')\n",
    "    smiles = None\n",
    "    if response.status_code == 200:\n",
    "        try:\n",
    "            smiles = response.json()['PropertyTable']['Properties'][0]['CanonicalSMILES']\n",
    "        except:\n",
    "            pass\n",
    "        if not smiles:\n",
    "            try:\n",
    "                cid = response.json()['PropertyTable']['Properties'][0]['CID']\n",
    "                compound = pcp.Compound.from_cid(cid)\n",
    "                smiles = compound.isomeric_smiles\n",
    "            except:\n",
    "                pass\n",
    "        w8_list_smiles.append(smiles)\n",
    "    \n",
    "#   use CIRPy\n",
    "    smiles = None\n",
    "    try:\n",
    "        smiles = cirpy.resolve(row['Name'], 'smiles')\n",
    "    except:\n",
    "        pass\n",
    "    w8_list_smiles.append(smiles)\n",
    "    \n",
    "#   use ChemSpider\n",
    "#   enter our API key\n",
    "    cs = chemspipy.ChemSpider('FrpLnPw0HSVI2v6eyOvPZIM5Aho6YhgL')\n",
    "    smiles = None\n",
    "    result = cs.search(row['Name'])\n",
    "    try:\n",
    "        smiles = result[0].smiles\n",
    "    except:\n",
    "        pass\n",
    "    w8_list_smiles.append(smiles)\n",
    "\n",
    "#   use Cactus Chemical Identifier Resolver\n",
    "    response = requests.get(f'https://cactus.nci.nih.gov/chemical/structure/{row[\"Name\"]}/smiles')\n",
    "    smiles = None\n",
    "    if response.status_code == 200:\n",
    "        try:\n",
    "            smiles = response.content.decode().strip()\n",
    "        except:\n",
    "            pass\n",
    "    w8_list_smiles.append(smiles)\n",
    "    \n",
    "#   use Chembl_webresource_client\n",
    "    molecule = new_client.molecule\n",
    "    compound_name = row['Name']\n",
    "    smiles = None\n",
    "    try:\n",
    "        compound = molecule.search(compound_name)[0]\n",
    "        smiles = compound['molecule_structures']['canonical_smiles']\n",
    "    except:\n",
    "        pass\n",
    "    w8_list_smiles.append(smiles)\n",
    "\n",
    "#   display the selected combination\n",
    "    print(\"A list of smiles that have been found:\")\n",
    "    print(w8_list_smiles)\n",
    "\n",
    "#   check that the combination contains elements other than None\n",
    "    if all(element is None for element in w8_list_smiles):\n",
    "        print(\"The list contains only None elements\")\n",
    "    else:\n",
    "#       count the occurrence of each element in the combination\n",
    "        element_counts = {}\n",
    "        for element in w8_list_smiles:\n",
    "            if element is not None:\n",
    "                element_counts[element] = element_counts.get(element, 0) + 1\n",
    "\n",
    "#       output the most frequently encountered element or elements, if there are several of them\n",
    "        max_count = max(element_counts.values())\n",
    "        most_common_elements = [k for k, v in element_counts.items() if v == max_count]\n",
    "        if len(most_common_elements) == 1:\n",
    "            print(f\"The most common smiles: {most_common_elements[0]}\")\n",
    "            df.loc[index, 'normalised_name'] = most_common_elements[0]\n",
    "        else:\n",
    "            print(f\"The most common smiles: {' или '.join(map(str, most_common_elements))}\")\n",
    "            df.loc[index, 'normalised_name'] = ' или '.join(map(str, most_common_elements))\n",
    "    print()"
   ]
  },
  {
   "cell_type": "markdown",
   "metadata": {},
   "source": [
    "Due to Internet problems parsing was stopped, to avoid this, we will use the ITMO server."
   ]
  },
  {
   "cell_type": "code",
   "execution_count": 32,
   "metadata": {},
   "outputs": [
    {
     "data": {
      "image/png": "[encoded data removed]",
      "text/plain": [
       "<IPython.core.display.Image object>"
      ]
     },
     "execution_count": 32,
     "metadata": {
      "image/png": {
       "width": 700
      }
     },
     "output_type": "execute_result"
    }
   ],
   "source": [
    "image_path = 'parser_smiles.png'\n",
    "width = 700\n",
    "Image(filename=image_path, width=width)"
   ]
  },
  {
   "cell_type": "code",
   "execution_count": 41,
   "metadata": {},
   "outputs": [
    {
     "name": "stdout",
     "output_type": "stream",
     "text": [
      "<class 'pandas.core.frame.DataFrame'>\n",
      "RangeIndex: 5000 entries, 0 to 4999\n",
      "Data columns (total 11 columns):\n",
      " #   Column                  Non-Null Count  Dtype  \n",
      "---  ------                  --------------  -----  \n",
      " 0   DOI                     5000 non-null   object \n",
      " 1   Date                    4588 non-null   object \n",
      " 2   Journal                 4588 non-null   object \n",
      " 3   Title                   4588 non-null   object \n",
      " 4   Name                    5000 non-null   object \n",
      " 5   measurement_error       5000 non-null   float64\n",
      " 6   measurement_wavelength  557 non-null    object \n",
      " 7   measurement_method      5000 non-null   object \n",
      " 8   normalised_name         4663 non-null   object \n",
      " 9   raw_value               5000 non-null   object \n",
      " 10  specifier               5000 non-null   object \n",
      "dtypes: float64(1), object(10)\n",
      "memory usage: 429.8+ KB\n"
     ]
    }
   ],
   "source": [
    "df_parsed = pd.read_csv('6_parsed_smiles.csv')\n",
    "df_parsed.info()"
   ]
  },
  {
   "cell_type": "markdown",
   "metadata": {},
   "source": [
    "After parsing there are 337 gaps in normalised_name.\n",
    "\n",
    "Let's remove the rows that don't have smiles."
   ]
  },
  {
   "cell_type": "code",
   "execution_count": 42,
   "metadata": {},
   "outputs": [],
   "source": [
    "# Delete rows with empty values in the 'normalised_name' column\n",
    "df_parsed = df_parsed.dropna(subset=['normalised_name'])\n",
    "\n",
    "# Update indexes\n",
    "df_parsed = df_parsed.reset_index(drop=True)"
   ]
  },
  {
   "cell_type": "markdown",
   "metadata": {},
   "source": [
    "We find the number of cells which there are several smiles."
   ]
  },
  {
   "cell_type": "code",
   "execution_count": 43,
   "metadata": {},
   "outputs": [
    {
     "name": "stdout",
     "output_type": "stream",
     "text": [
      "Number of cells with 'или': 417\n"
     ]
    }
   ],
   "source": [
    "# counting the number of cells containing the word \"или\" in the \"normalised_name\" column\n",
    "count = df_parsed[df_parsed['normalised_name'].str.contains('или', na=False)].shape[0]\n",
    "\n",
    "print(\"Number of cells with 'или':\", count)"
   ]
  },
  {
   "cell_type": "markdown",
   "metadata": {},
   "source": [
    "There are a lot of them to select manually, so we randomly choose one of the values of smiles."
   ]
  },
  {
   "cell_type": "code",
   "execution_count": 46,
   "metadata": {},
   "outputs": [],
   "source": [
    "# function to replace a cell with a random smiles from the list\n",
    "def replace_smile(cell):\n",
    "    smiles = cell.split(' или ')\n",
    "    new_smile = random.choice(smiles)\n",
    "    return new_smile\n",
    "\n",
    "# ищем ячейки с \"или\" и заменяем их на случайный смайл из списка\n",
    "df_str = df_parsed['normalised_name'].str.contains(' или ')\n",
    "df_parsed.loc[df_str, 'normalised_name'] = df_parsed.loc[df_str, 'normalised_name'].apply(replace_smile)"
   ]
  },
  {
   "cell_type": "markdown",
   "metadata": {},
   "source": [
    "Count the number of cells containing the word \"или\" in the 'normalised_name' column."
   ]
  },
  {
   "cell_type": "code",
   "execution_count": 47,
   "metadata": {},
   "outputs": [
    {
     "name": "stdout",
     "output_type": "stream",
     "text": [
      "Number of cells with 'или': 0\n"
     ]
    }
   ],
   "source": [
    "count = df_parsed[df_parsed['normalised_name'].str.contains('или', na=False)].shape[0]\n",
    "print(\"Number of cells with 'или':\", count)"
   ]
  },
  {
   "cell_type": "code",
   "execution_count": null,
   "metadata": {},
   "outputs": [],
   "source": [
    "df_parsed.to_csv('6_good_smiles.csv', index=False)"
   ]
  },
  {
   "cell_type": "markdown",
   "metadata": {},
   "source": [
    "#### Preprocessing 'raw_value'"
   ]
  },
  {
   "cell_type": "markdown",
   "metadata": {},
   "source": [
    "After filling in the blanks in normalised_name it is worth processing the target raw_value. The preprocessing will include transformation to numerical format, deletion of outliers, removal of duplicates."
   ]
  },
  {
   "cell_type": "code",
   "execution_count": 79,
   "metadata": {},
   "outputs": [],
   "source": [
    "df = pd.read_csv('6_good_smiles.csv')"
   ]
  },
  {
   "cell_type": "code",
   "execution_count": 80,
   "metadata": {},
   "outputs": [],
   "source": [
    "# set a function to clear the raw value\n",
    "def clean_value(value):\n",
    "    new_value = ''\n",
    "    for s in value:\n",
    "        if s == '.' and '.' in new_value:\n",
    "            break\n",
    "        elif s in ['0', '1', '2', '3', '4', '5', '6', '7', '8', '9', '.']:\n",
    "            new_value += s\n",
    "        elif s in [' ', '-', '±', '–', ';', 'to', '(', '/', '[']:\n",
    "            break\n",
    "    return new_value"
   ]
  },
  {
   "cell_type": "code",
   "execution_count": 81,
   "metadata": {},
   "outputs": [],
   "source": [
    "# apply the function to each element\n",
    "df['raw_value'] = df['raw_value'].apply(lambda x: clean_value(x))"
   ]
  },
  {
   "cell_type": "code",
   "execution_count": 82,
   "metadata": {},
   "outputs": [],
   "source": [
    "# convert the raw value column into a numeric format\n",
    "df['raw_value'] = pd.to_numeric(df['raw_value'], downcast='float')"
   ]
  },
  {
   "cell_type": "markdown",
   "metadata": {},
   "source": [
    "To see if there are outliers in the raw_value, compare the average value with the maximum and minimum values in the sample."
   ]
  },
  {
   "cell_type": "code",
   "execution_count": 83,
   "metadata": {},
   "outputs": [
    {
     "data": {
      "text/html": [
       "<div>\n",
       "<style scoped>\n",
       "    .dataframe tbody tr th:only-of-type {\n",
       "        vertical-align: middle;\n",
       "    }\n",
       "\n",
       "    .dataframe tbody tr th {\n",
       "        vertical-align: top;\n",
       "    }\n",
       "\n",
       "    .dataframe thead th {\n",
       "        text-align: right;\n",
       "    }\n",
       "</style>\n",
       "<table border=\"1\" class=\"dataframe\">\n",
       "  <thead>\n",
       "    <tr style=\"text-align: right;\">\n",
       "      <th></th>\n",
       "      <th>raw_value</th>\n",
       "    </tr>\n",
       "  </thead>\n",
       "  <tbody>\n",
       "    <tr>\n",
       "      <th>count</th>\n",
       "      <td>4663.000000</td>\n",
       "    </tr>\n",
       "    <tr>\n",
       "      <th>mean</th>\n",
       "      <td>1.959614</td>\n",
       "    </tr>\n",
       "    <tr>\n",
       "      <th>std</th>\n",
       "      <td>2.361013</td>\n",
       "    </tr>\n",
       "    <tr>\n",
       "      <th>min</th>\n",
       "      <td>0.000000</td>\n",
       "    </tr>\n",
       "    <tr>\n",
       "      <th>25%</th>\n",
       "      <td>1.407000</td>\n",
       "    </tr>\n",
       "    <tr>\n",
       "      <th>50%</th>\n",
       "      <td>1.494140</td>\n",
       "    </tr>\n",
       "    <tr>\n",
       "      <th>75%</th>\n",
       "      <td>1.994500</td>\n",
       "    </tr>\n",
       "    <tr>\n",
       "      <th>max</th>\n",
       "      <td>104.000000</td>\n",
       "    </tr>\n",
       "  </tbody>\n",
       "</table>\n",
       "</div>"
      ],
      "text/plain": [
       "         raw_value\n",
       "count  4663.000000\n",
       "mean      1.959614\n",
       "std       2.361013\n",
       "min       0.000000\n",
       "25%       1.407000\n",
       "50%       1.494140\n",
       "75%       1.994500\n",
       "max     104.000000"
      ]
     },
     "execution_count": 83,
     "metadata": {},
     "output_type": "execute_result"
    }
   ],
   "source": [
    "df.describe()[['raw_value']]"
   ]
  },
  {
   "cell_type": "markdown",
   "metadata": {},
   "source": [
    "With the interactive boxplot it is possible to see the outliers."
   ]
  },
  {
   "cell_type": "code",
   "execution_count": 5,
   "metadata": {},
   "outputs": [
    {
     "data": {
      "image/png": "[encoded data removed]",
      "text/plain": [
       "<IPython.core.display.Image object>"
      ]
     },
     "execution_count": 5,
     "metadata": {
      "image/png": {
       "width": 400
      }
     },
     "output_type": "execute_result"
    }
   ],
   "source": [
    "fig = px.box(df, y=['raw_value'])\n",
    "\n",
    "image_1 = 'fig/newplot.png'\n",
    "Image(filename=image_1, width=400)"
   ]
  },
  {
   "cell_type": "markdown",
   "metadata": {},
   "source": [
    "As we see, there are outliers in raw_value, so we remove them. "
   ]
  },
  {
   "cell_type": "markdown",
   "metadata": {},
   "source": [
    "Let's define the emission limits from 1 to 4, since these values are the limits for the refractive index. The use of quantiles in this case is unreasonable, because it can lead to the removal of samples with high refractive indices in fact."
   ]
  },
  {
   "cell_type": "code",
   "execution_count": 59,
   "metadata": {},
   "outputs": [],
   "source": [
    "lower_bound = 1\n",
    "upper_bound = 4"
   ]
  },
  {
   "cell_type": "code",
   "execution_count": 60,
   "metadata": {},
   "outputs": [],
   "source": [
    "# remove everything outside the raw_value boundary\n",
    "df = df[(df['raw_value'] >= lower_bound) & (df['raw_value'] <= upper_bound)]"
   ]
  },
  {
   "cell_type": "code",
   "execution_count": 61,
   "metadata": {},
   "outputs": [],
   "source": [
    "# remove lines in which the error of measurement exceeds the median value\n",
    "df = df[df['measurement_error'] <= df['raw_value'].median()]"
   ]
  },
  {
   "cell_type": "code",
   "execution_count": 62,
   "metadata": {},
   "outputs": [
    {
     "data": {
      "text/html": [
       "<div>\n",
       "<style scoped>\n",
       "    .dataframe tbody tr th:only-of-type {\n",
       "        vertical-align: middle;\n",
       "    }\n",
       "\n",
       "    .dataframe tbody tr th {\n",
       "        vertical-align: top;\n",
       "    }\n",
       "\n",
       "    .dataframe thead th {\n",
       "        text-align: right;\n",
       "    }\n",
       "</style>\n",
       "<table border=\"1\" class=\"dataframe\">\n",
       "  <thead>\n",
       "    <tr style=\"text-align: right;\">\n",
       "      <th></th>\n",
       "      <th>raw_value</th>\n",
       "    </tr>\n",
       "  </thead>\n",
       "  <tbody>\n",
       "    <tr>\n",
       "      <th>count</th>\n",
       "      <td>4428.000000</td>\n",
       "    </tr>\n",
       "    <tr>\n",
       "      <th>mean</th>\n",
       "      <td>1.731461</td>\n",
       "    </tr>\n",
       "    <tr>\n",
       "      <th>std</th>\n",
       "      <td>0.582302</td>\n",
       "    </tr>\n",
       "    <tr>\n",
       "      <th>min</th>\n",
       "      <td>1.000000</td>\n",
       "    </tr>\n",
       "    <tr>\n",
       "      <th>25%</th>\n",
       "      <td>1.401000</td>\n",
       "    </tr>\n",
       "    <tr>\n",
       "      <th>50%</th>\n",
       "      <td>1.488200</td>\n",
       "    </tr>\n",
       "    <tr>\n",
       "      <th>75%</th>\n",
       "      <td>1.840500</td>\n",
       "    </tr>\n",
       "    <tr>\n",
       "      <th>max</th>\n",
       "      <td>4.000000</td>\n",
       "    </tr>\n",
       "  </tbody>\n",
       "</table>\n",
       "</div>"
      ],
      "text/plain": [
       "         raw_value\n",
       "count  4428.000000\n",
       "mean      1.731461\n",
       "std       0.582302\n",
       "min       1.000000\n",
       "25%       1.401000\n",
       "50%       1.488200\n",
       "75%       1.840500\n",
       "max       4.000000"
      ]
     },
     "execution_count": 62,
     "metadata": {},
     "output_type": "execute_result"
    }
   ],
   "source": [
    "df.describe()[['raw_value']]"
   ]
  },
  {
   "cell_type": "markdown",
   "metadata": {},
   "source": [
    "As we can see, the removal of the outliers was successful."
   ]
  },
  {
   "cell_type": "markdown",
   "metadata": {},
   "source": [
    "Now it is necessary to remove the duplicate smiles. To do this, group the dataframe by 'normalised_name' and 'measurement_method'. "
   ]
  },
  {
   "cell_type": "code",
   "execution_count": 63,
   "metadata": {},
   "outputs": [
    {
     "data": {
      "text/plain": [
       "1334"
      ]
     },
     "execution_count": 63,
     "metadata": {},
     "output_type": "execute_result"
    }
   ],
   "source": [
    "# find the number of unique smiles\n",
    "len(pd.unique(df['normalised_name']).tolist())"
   ]
  },
  {
   "cell_type": "code",
   "execution_count": 64,
   "metadata": {},
   "outputs": [],
   "source": [
    "# grouped by smiles and method of measurement\n",
    "df_group = df.groupby(['normalised_name', 'measurement_method'], group_keys=True).apply(lambda x: x)"
   ]
  },
  {
   "cell_type": "markdown",
   "metadata": {},
   "source": [
    "After grouping, it is necessary to find a string for each unique smiles that is closest to the median value of 'raw_value' and corresponds to the most frequent 'measurement_method'"
   ]
  },
  {
   "cell_type": "code",
   "execution_count": 65,
   "metadata": {},
   "outputs": [],
   "source": [
    "# let's introduce a function that looks for the closest value to the values from the sheet\n",
    "def closest_value(input_list, input_value):\n",
    " \n",
    "  arr = np.asarray(input_list)\n",
    "  i = (np.abs(arr - input_value)).argmin()\n",
    "  \n",
    "  return arr[i]"
   ]
  },
  {
   "cell_type": "code",
   "execution_count": null,
   "metadata": {
    "collapsed": true
   },
   "outputs": [],
   "source": [
    "# let's select one line for each smiles according to the principle of closeness of the raw value to the median value for this substance among the most frequent methods of measurement\n",
    "df_result = pd.DataFrame()\n",
    "unique_smiles = pd.unique(df['normalised_name']).tolist()\n",
    "\n",
    "for smiles in unique_smiles:\n",
    "    common_metod = df_group.loc[smiles]['measurement_method'].value_counts().idxmax()\n",
    "    val = closest_value(list(df_group.loc[smiles, common_metod]['raw_value']), df_group.loc[smiles, common_metod]['raw_value'].median())\n",
    "    row = df[(df['normalised_name'] == smiles) & (df['raw_value'] == val) & (df['measurement_method'] == common_metod)]\n",
    "\n",
    "    df_result = df_result.append(row.iloc[0])"
   ]
  },
  {
   "cell_type": "markdown",
   "metadata": {},
   "source": [
    "After getting a dataset without duplicates, let's delete the columns we don't need in the future"
   ]
  },
  {
   "cell_type": "code",
   "execution_count": 67,
   "metadata": {},
   "outputs": [],
   "source": [
    "df_result_clear = df_result.drop(columns=['DOI', 'Date', 'Journal', 'Title', 'measurement_error',\n",
    "       'measurement_wavelength', 'specifier'])"
   ]
  },
  {
   "cell_type": "markdown",
   "metadata": {},
   "source": [
    "Transform 'normalised_name' into mol files to further search for descriptors for those smiles for which it is possible"
   ]
  },
  {
   "cell_type": "code",
   "execution_count": null,
   "metadata": {
    "collapsed": true
   },
   "outputs": [],
   "source": [
    "mols = [Chem.MolFromSmiles(smi) for smi in df_result_clear['normalised_name'].tolist()]\n",
    "df_result_clear['mol_file'] = mols"
   ]
  },
  {
   "cell_type": "code",
   "execution_count": 69,
   "metadata": {},
   "outputs": [
    {
     "data": {
      "text/plain": [
       "427"
      ]
     },
     "execution_count": 69,
     "metadata": {},
     "output_type": "execute_result"
    }
   ],
   "source": [
    "# the number of smiles for which no mol file was found\n",
    "len(df_result_clear.loc[df_result_clear['mol_file'].isna()])"
   ]
  },
  {
   "cell_type": "markdown",
   "metadata": {},
   "source": [
    "#### Downloading descriptors"
   ]
  },
  {
   "cell_type": "markdown",
   "metadata": {},
   "source": [
    "**Mordred**"
   ]
  },
  {
   "cell_type": "code",
   "execution_count": 30,
   "metadata": {},
   "outputs": [],
   "source": [
    "# set the descriptor calculator\n",
    "calc = Calculator(descriptors, ignore_3D=True)"
   ]
  },
  {
   "cell_type": "code",
   "execution_count": 31,
   "metadata": {},
   "outputs": [
    {
     "data": {
      "text/plain": [
       "1613"
      ]
     },
     "execution_count": 31,
     "metadata": {},
     "output_type": "execute_result"
    }
   ],
   "source": [
    "# number of descriptors without using 3d descriptors, i.e. atomic coordinates\n",
    "len(calc.descriptors)"
   ]
  },
  {
   "cell_type": "code",
   "execution_count": 34,
   "metadata": {},
   "outputs": [],
   "source": [
    "# split the dataframe into parts that contain mol file and None\n",
    "df_nans = df_result_clear.loc[df_result_clear.mol_file.isna()]\n",
    "df_yes = df_result_clear.loc[df_result_clear.mol_file.notna()]"
   ]
  },
  {
   "cell_type": "code",
   "execution_count": null,
   "metadata": {},
   "outputs": [],
   "source": [
    "# unload the descriptors for the dataframe that contains the mol file\n",
    "df_molecular_desc = calc.pandas(df_yes['mol_file'])"
   ]
  },
  {
   "cell_type": "code",
   "execution_count": 36,
   "metadata": {},
   "outputs": [],
   "source": [
    "# merge dataframes\n",
    "df_with_desc = pd.concat([df_yes, df_molecular_desc], axis=1)\n",
    "df_result = pd.concat([df_with_desc, df_nans])"
   ]
  },
  {
   "cell_type": "code",
   "execution_count": 37,
   "metadata": {},
   "outputs": [],
   "source": [
    "# save the descriptors in csv\n",
    "df_result.to_csv('db_descriptors_Mordred.csv', index=False)"
   ]
  },
  {
   "cell_type": "markdown",
   "metadata": {},
   "source": [
    "**RDKit**"
   ]
  },
  {
   "cell_type": "code",
   "execution_count": 42,
   "metadata": {},
   "outputs": [],
   "source": [
    "# set the descriptor calculator\n",
    "calc = MoleculeDescriptors.MolecularDescriptorCalculator([x[0] for x in Descriptors._descList])"
   ]
  },
  {
   "cell_type": "code",
   "execution_count": 43,
   "metadata": {},
   "outputs": [
    {
     "name": "stdout",
     "output_type": "stream",
     "text": [
      "208\n"
     ]
    }
   ],
   "source": [
    "# number of descriptors\n",
    "print(len(Descriptors._descList))"
   ]
  },
  {
   "cell_type": "code",
   "execution_count": 44,
   "metadata": {},
   "outputs": [],
   "source": [
    "# descriptor names\n",
    "desc_names = calc.GetDescriptorNames()"
   ]
  },
  {
   "cell_type": "code",
   "execution_count": null,
   "metadata": {},
   "outputs": [],
   "source": [
    "# unload the descriptors and create a dataframe\n",
    "mol_descriptors = []\n",
    "\n",
    "for mol in df_yes['mol_file']:\n",
    "        descriptors = calc.CalcDescriptors(mol)\n",
    "        mol_descriptors.append(descriptors)\n",
    "\n",
    "df_molecular_desc = pd.DataFrame(mol_descriptors, columns=desc_names)"
   ]
  },
  {
   "cell_type": "code",
   "execution_count": 47,
   "metadata": {},
   "outputs": [],
   "source": [
    "# merge dataframes\n",
    "df_with_desc = pd.concat([df_yes.reset_index(drop=True), df_molecular_desc], axis=1)\n",
    "df_result = pd.concat([df_with_desc, df_nans.reset_index(drop=True)])"
   ]
  },
  {
   "cell_type": "code",
   "execution_count": 59,
   "metadata": {},
   "outputs": [],
   "source": [
    "# save the descriptors in csv\n",
    "df_result.to_csv('db_descriptors_RDKit.csv', index=False)"
   ]
  },
  {
   "cell_type": "markdown",
   "metadata": {},
   "source": [
    "**PubChem**"
   ]
  },
  {
   "cell_type": "code",
   "execution_count": 50,
   "metadata": {},
   "outputs": [],
   "source": [
    "# set properties for unloading\n",
    "properties = ['MolecularFormula', 'MolecularWeight','InChI', 'InChIKey', 'IUPACName', \n",
    "                                'XLogP', 'ExactMass', 'MonoisotopicMass', 'TPSA', 'Complexity', 'Charge', \n",
    "                                'HBondDonorCount', 'HBondAcceptorCount', 'RotatableBondCount', \n",
    "                                'HeavyAtomCount', 'IsotopeAtomCount', 'AtomStereoCount', \n",
    "                                'DefinedAtomStereoCount', 'UndefinedAtomStereoCount', 'BondStereoCount', \n",
    "                                'DefinedBondStereoCount', 'UndefinedBondStereoCount', 'CovalentUnitCount', \n",
    "                                'Volume3D', 'XStericQuadrupole3D', 'YStericQuadrupole3D', \n",
    "                                'ZStericQuadrupole3D', 'FeatureCount3D', 'FeatureAcceptorCount3D', \n",
    "                                'FeatureDonorCount3D', 'FeatureAnionCount3D', 'FeatureCationCount3D', \n",
    "                                'FeatureRingCount3D', 'FeatureHydrophobeCount3D', 'ConformerModelRMSD3D', \n",
    "                                'EffectiveRotorCount3D', 'ConformerCount3D']"
   ]
  },
  {
   "cell_type": "code",
   "execution_count": 51,
   "metadata": {},
   "outputs": [
    {
     "data": {
      "text/plain": [
       "37"
      ]
     },
     "execution_count": 51,
     "metadata": {},
     "output_type": "execute_result"
    }
   ],
   "source": [
    "# number of descriptors\n",
    "len(properties)"
   ]
  },
  {
   "cell_type": "code",
   "execution_count": 53,
   "metadata": {},
   "outputs": [],
   "source": [
    "# set an empty dictionary for undetected smiles\n",
    "nans_dict = {}\n",
    "for p in properties:\n",
    "    nans_dict[p] = np.nan"
   ]
  },
  {
   "cell_type": "code",
   "execution_count": null,
   "metadata": {},
   "outputs": [],
   "source": [
    "# unload the descriptors\n",
    "data = []\n",
    "\n",
    "for i in df['normalised_name']:\n",
    "    try:\n",
    "        props = pcp.get_properties(properties, i, 'smiles')\n",
    "        data.append(props)\n",
    "    except:\n",
    "        \n",
    "        data.append([nans_dict])"
   ]
  },
  {
   "cell_type": "code",
   "execution_count": null,
   "metadata": {},
   "outputs": [],
   "source": [
    "# transfer the data to a dataframe\n",
    "rows = []\n",
    "columns = data[1][0].keys()\n",
    "for i in range(len(df['normalised_name'])):\n",
    "    rows.append(data[i][0].values())\n",
    "props_df = pd.DataFrame(data=rows, columns=columns) "
   ]
  },
  {
   "cell_type": "code",
   "execution_count": null,
   "metadata": {},
   "outputs": [],
   "source": [
    "# merge dataframes\n",
    "df_result = pd.concat([df, props_df], axis=1)"
   ]
  },
  {
   "cell_type": "code",
   "execution_count": null,
   "metadata": {},
   "outputs": [],
   "source": [
    "# save the descriptors in csv\n",
    "df_result.to_csv('db_descriptors_PubChem.csv', index=False)"
   ]
  },
  {
   "cell_type": "markdown",
   "metadata": {},
   "source": [
    "**Materials Project**"
   ]
  },
  {
   "cell_type": "code",
   "execution_count": 72,
   "metadata": {
    "scrolled": true
   },
   "outputs": [
    {
     "name": "stdout",
     "output_type": "stream",
     "text": [
      "Number of descriptors: 73\n",
      "\n",
      "['builder_meta', 'nsites', 'elements', 'nelements', 'composition', 'composition_reduced', 'formula_pretty', 'formula_anonymous', 'chemsys', 'volume', 'density', 'density_atomic', 'symmetry', 'property_name', 'material_id', 'deprecated', 'deprecation_reasons', 'last_updated', 'origins', 'warnings', 'structure', 'task_ids', 'uncorrected_energy_per_atom', 'energy_per_atom', 'formation_energy_per_atom', 'energy_above_hull', 'is_stable', 'equilibrium_reaction_energy_per_atom', 'decomposes_to', 'xas', 'grain_boundaries', 'band_gap', 'cbm', 'vbm', 'efermi', 'is_gap_direct', 'is_metal', 'es_source_calc_id', 'bandstructure', 'dos', 'dos_energy_up', 'dos_energy_down', 'is_magnetic', 'ordering', 'total_magnetization', 'total_magnetization_normalized_vol', 'total_magnetization_normalized_formula_units', 'num_magnetic_sites', 'num_unique_magnetic_sites', 'types_of_magnetic_species', 'k_voigt', 'k_reuss', 'k_vrh', 'g_voigt', 'g_reuss', 'g_vrh', 'universal_anisotropy', 'homogeneous_poisson', 'e_total', 'e_ionic', 'e_electronic', 'n', 'e_ij_max', 'weighted_surface_energy_EV_PER_ANG2', 'weighted_surface_energy', 'weighted_work_function', 'surface_anisotropy', 'shape_factor', 'has_reconstructed', 'possible_species', 'has_props', 'theoretical', 'database_IDs']\n"
     ]
    }
   ],
   "source": [
    "# find the number of descriptors in MP\n",
    "MP_API_KEY = \"d2mK9UPMEmGUfNpiFEf8gSwE6De4XX2i\"\n",
    "\n",
    "with MPRester(MP_API_KEY) as mpr:\n",
    "    print('Number of descriptors:', len(mpr.summary.available_fields))\n",
    "    print()\n",
    "    print(mpr.summary.available_fields)\n",
    "    list_fields = mpr.summary.available_fields"
   ]
  },
  {
   "cell_type": "markdown",
   "metadata": {},
   "source": [
    "Let's try one example and select descriptors that can be added to a dataset."
   ]
  },
  {
   "cell_type": "code",
   "execution_count": null,
   "metadata": {},
   "outputs": [],
   "source": [
    "data = mpr.get_entries('K2O')[0]\n",
    "material_id = data.data[\"material_id\"]\n",
    "materials = mpr.summary.search(material_ids=[material_id])\n",
    "material = materials[0]"
   ]
  },
  {
   "cell_type": "code",
   "execution_count": null,
   "metadata": {},
   "outputs": [],
   "source": [
    "for field in list_fields:\n",
    "    print(field, 'feature')\n",
    "    print(getattr(material, field))"
   ]
  },
  {
   "cell_type": "code",
   "execution_count": 76,
   "metadata": {},
   "outputs": [
    {
     "name": "stdout",
     "output_type": "stream",
     "text": [
      "Number of descriptors: 47\n"
     ]
    }
   ],
   "source": [
    "# selecting descriptors\n",
    "good_list_fields = ['nsites', 'volume', 'density', 'density_atomic', 'uncorrected_energy_per_atom', 'energy_per_atom', \n",
    "                    'formation_energy_per_atom', 'energy_above_hull', 'is_stable', 'equilibrium_reaction_energy_per_atom', \n",
    "                    'xas', 'grain_boundaries', 'band_gap', 'cbm', 'vbm', 'efermi', 'is_gap_direct', 'is_metal', 'dos_energy_up', \n",
    "                    'dos_energy_down', 'is_magnetic', 'ordering', 'total_magnetization', 'total_magnetization_normalized_vol', \n",
    "                    'total_magnetization_normalized_formula_units', 'num_magnetic_sites', 'num_unique_magnetic_sites', 'k_voigt', \n",
    "                    'k_reuss', 'k_vrh', 'g_voigt', 'g_reuss', 'g_vrh', 'universal_anisotropy', 'homogeneous_poisson', 'e_total', \n",
    "                    'e_ionic', 'e_electronic', 'n', 'e_ij_max', 'weighted_surface_energy_EV_PER_ANG2', 'weighted_surface_energy', \n",
    "                    'weighted_work_function', 'surface_anisotropy', 'shape_factor', 'has_reconstructed', 'theoretical']\n",
    "print('Number of descriptors:', len(good_list_fields))"
   ]
  },
  {
   "cell_type": "markdown",
   "metadata": {},
   "source": [
    "Let's find descriptors for all chemical compounds."
   ]
  },
  {
   "cell_type": "code",
   "execution_count": 78,
   "metadata": {},
   "outputs": [],
   "source": [
    "# create new columns in the dataframe\n",
    "for column_name in good_list_fields:\n",
    "    df_result_clear[column_name] = None"
   ]
  },
  {
   "cell_type": "code",
   "execution_count": null,
   "metadata": {},
   "outputs": [],
   "source": [
    "w8_list_MP = []\n",
    "for i in range(len(df['Name'].tolist())):\n",
    "    try:\n",
    "        data = mpr.get_entries(df['Name'].tolist()[i])[0]\n",
    "        material_id = data.data[\"material_id\"]\n",
    "        materials = mpr.summary.search(material_ids=[material_id])\n",
    "        material = materials[0]\n",
    "        for field in good_list_fields:\n",
    "            w8_list_MP.append(getattr(material, field))\n",
    "#       iterate over column names and corresponding values\n",
    "        for col, val in zip(good_list_fields, w8_list_MP):\n",
    "#           adding a value to a specific row and column\n",
    "            df.loc[i, col] = val\n",
    "    except:\n",
    "        pass"
   ]
  },
  {
   "cell_type": "code",
   "execution_count": null,
   "metadata": {},
   "outputs": [],
   "source": [
    "df.to_csv('db_descriptors_MaterialsProject.csv', index=False)"
   ]
  },
  {
   "cell_type": "markdown",
   "metadata": {},
   "source": [
    "#### Merging datasets"
   ]
  },
  {
   "cell_type": "markdown",
   "metadata": {},
   "source": [
    "After unloading all the descriptors it is necessary to merge the dataframes"
   ]
  },
  {
   "cell_type": "code",
   "execution_count": null,
   "metadata": {
    "collapsed": true
   },
   "outputs": [],
   "source": [
    "# load datasets of descriptors\n",
    "df_mordred = pd.read_csv('df/db_descriptors_Mordred.csv')\n",
    "df_rdkit = pd.read_csv('df/db_descriptors_RDKit.csv')\n",
    "df_pubchem = pd.read_csv('df/db_descriptors_PubChem.csv')\n",
    "df_matproj = pd.read_csv('df/db_descriptors_MaterialsProject.csv')"
   ]
  },
  {
   "cell_type": "code",
   "execution_count": 126,
   "metadata": {},
   "outputs": [],
   "source": [
    "# replace all string values with nans and make sure that all elements are in numeric format\n",
    "for df in [df_mordred, df_rdkit, df_pubchem, df_matproj]:\n",
    "    columns = df.columns.tolist()\n",
    "\n",
    "    for column in columns[4:]:\n",
    "        new_column = pd.to_numeric(df[column], errors='coerce')\n",
    "        df[column] = new_column"
   ]
  },
  {
   "cell_type": "code",
   "execution_count": 127,
   "metadata": {},
   "outputs": [
    {
     "name": "stdout",
     "output_type": "stream",
     "text": [
      "Dataframes are sorted the same way!\n"
     ]
    }
   ],
   "source": [
    "# sort the values within the dataframes and make sure that the rows are in the same places\n",
    "df_mordred_sorted = df_mordred.sort_values(by=['raw_value', 'normalised_name']).reset_index(drop=True)\n",
    "df_rdkit_sorted = df_rdkit.sort_values(by=['raw_value', 'normalised_name']).reset_index(drop=True)\n",
    "df_pubchem_sorted = df_pubchem.sort_values(by=['raw_value', 'normalised_name']).reset_index(drop=True)\n",
    "df_matproj_sorted = df_matproj.sort_values(by=['raw_value', 'normalised_name']).reset_index(drop=True)\n",
    "\n",
    "test = []\n",
    "for df_1 in [df_mordred_sorted, df_rdkit_sorted, df_pubchem_sorted, df_matproj_sorted]:\n",
    "    for df_2 in [df_mordred_sorted, df_rdkit_sorted, df_pubchem_sorted, df_matproj_sorted]:\n",
    "        test.append(df_1['normalised_name'].equals(df_2['normalised_name']))\n",
    "\n",
    "if False not in test:\n",
    "    print('Dataframes are sorted the same way!')"
   ]
  },
  {
   "cell_type": "code",
   "execution_count": 128,
   "metadata": {},
   "outputs": [],
   "source": [
    "# merge dataframes\n",
    "df = pd.concat([df_mordred_sorted.iloc[:, 1:], df_rdkit_sorted.iloc[:, 4:], df_pubchem_sorted.iloc[:, 10:], df_matproj_sorted.iloc[:, 4:]], axis=1)"
   ]
  },
  {
   "cell_type": "code",
   "execution_count": 129,
   "metadata": {},
   "outputs": [
    {
     "data": {
      "text/plain": [
       "(1334, 1903)"
      ]
     },
     "execution_count": 129,
     "metadata": {},
     "output_type": "execute_result"
    }
   ],
   "source": [
    "# check the shape of the dataframe\n",
    "df.shape"
   ]
  },
  {
   "cell_type": "markdown",
   "metadata": {},
   "source": [
    "#### Removing empty columns and rows"
   ]
  },
  {
   "cell_type": "code",
   "execution_count": 130,
   "metadata": {},
   "outputs": [
    {
     "data": {
      "text/plain": [
       "(1071, 1811)"
      ]
     },
     "execution_count": 130,
     "metadata": {},
     "output_type": "execute_result"
    }
   ],
   "source": [
    "# remove columns and rows that consist entirely of NaN (thresh = 4 - something other than 'raw vallue', 'normalised_name', 'measurement_method' is filled)\n",
    "df = df.dropna(axis = 1, how='all')\n",
    "df = df.dropna(axis = 0, thresh=4)\n",
    "df.shape"
   ]
  },
  {
   "cell_type": "code",
   "execution_count": 131,
   "metadata": {},
   "outputs": [
    {
     "data": {
      "text/plain": [
       "(1071, 1583)"
      ]
     },
     "execution_count": 131,
     "metadata": {},
     "output_type": "execute_result"
    }
   ],
   "source": [
    "# remove the duplicate columns\n",
    "df_no_duplicates = df.T.drop_duplicates().T\n",
    "df_no_duplicates = df_no_duplicates.iloc[:, ~ df_no_duplicates.columns.duplicated()]\n",
    "df_no_duplicates.shape"
   ]
  },
  {
   "cell_type": "code",
   "execution_count": 132,
   "metadata": {},
   "outputs": [
    {
     "name": "stdout",
     "output_type": "stream",
     "text": [
      "Number of columns to be deleted: 461\n"
     ]
    }
   ],
   "source": [
    "# find the columns that have more than 30% nan and delete them from the dataview\n",
    "drop_list = []\n",
    "\n",
    "for column in df_no_duplicates.columns:\n",
    "    count_nan = df_no_duplicates[column].isnull().sum().astype(int)\n",
    "\n",
    "    if count_nan >= len(df_no_duplicates)*0.30:\n",
    "        drop_list.append(column)\n",
    "\n",
    "print('Number of columns to be deleted:', len(drop_list))"
   ]
  },
  {
   "cell_type": "code",
   "execution_count": 133,
   "metadata": {},
   "outputs": [
    {
     "name": "stdout",
     "output_type": "stream",
     "text": [
      "The total size of the dataframe: (1071, 1038)\n"
     ]
    }
   ],
   "source": [
    "# filter out the low-dispersion descriptors\n",
    "variances = []\n",
    "\n",
    "for col in df_no_duplicates.iloc[:, 3:].columns:\n",
    "    try:\n",
    "      var = df_no_duplicates[col].var(ddof=1)\n",
    "      variances.append((col, var))\n",
    "    except:\n",
    "      continue\n",
    "\n",
    "for col, var in variances:\n",
    "  if var <= 0.01:\n",
    "    drop_list.append(col)\n",
    "\n",
    "df_result = df_no_duplicates.drop(drop_list, axis=1)\n",
    "\n",
    "print('The total size of the dataframe:', df_result.shape)"
   ]
  },
  {
   "cell_type": "markdown",
   "metadata": {},
   "source": [
    "#### Filling in gaps in the descriptors"
   ]
  },
  {
   "cell_type": "code",
   "execution_count": 134,
   "metadata": {},
   "outputs": [],
   "source": [
    "# set the part of the dataframe where you want to fill nans\n",
    "X = df_result.iloc[:, 3:]"
   ]
  },
  {
   "cell_type": "code",
   "execution_count": null,
   "metadata": {
    "collapsed": true
   },
   "outputs": [],
   "source": [
    "# because of the error arising with the presence of infinite values, we apply the function\n",
    "X.replace([np.inf, -np.inf], np.nan, inplace=True)"
   ]
  },
  {
   "cell_type": "code",
   "execution_count": 136,
   "metadata": {},
   "outputs": [
    {
     "data": {
      "text/plain": [
       "209332"
      ]
     },
     "execution_count": 136,
     "metadata": {},
     "output_type": "execute_result"
    }
   ],
   "source": [
    "# number of nans\n",
    "pd.DataFrame(X).isnull().sum().sum()"
   ]
  },
  {
   "cell_type": "code",
   "execution_count": null,
   "metadata": {
    "collapsed": true
   },
   "outputs": [],
   "source": [
    "# define imputer\n",
    "imputer = KNNImputer()\n",
    "\n",
    "# fit on the dataset\n",
    "imputer.fit(X)\n",
    "\n",
    "# transform the dataset\n",
    "Xtrans = imputer.transform(X)"
   ]
  },
  {
   "cell_type": "code",
   "execution_count": 138,
   "metadata": {},
   "outputs": [],
   "source": [
    "# translate to dataframe\n",
    "X_result = pd.DataFrame(Xtrans, columns=X.columns)"
   ]
  },
  {
   "cell_type": "code",
   "execution_count": 139,
   "metadata": {},
   "outputs": [
    {
     "data": {
      "text/plain": [
       "0"
      ]
     },
     "execution_count": 139,
     "metadata": {},
     "output_type": "execute_result"
    }
   ],
   "source": [
    "# number of nans after filling\n",
    "X_result.isnull().sum().sum()"
   ]
  },
  {
   "cell_type": "code",
   "execution_count": 140,
   "metadata": {},
   "outputs": [],
   "source": [
    "# save the data\n",
    "X_result.insert(0, \"measurement_method\", df_result[\"measurement_method\"].reset_index(drop=True), True)\n",
    "X_result.insert(0, \"raw_value\", df_result[\"raw_value\"].reset_index(drop=True), True)\n",
    "X_result.insert(0, \"normalised_name\", df_result[\"normalised_name\"].reset_index(drop=True), True)\n",
    "\n",
    "X_result.to_csv('6_clear.csv', index=False)"
   ]
  },
  {
   "cell_type": "code",
   "execution_count": 141,
   "metadata": {},
   "outputs": [],
   "source": [
    "X_result = X_result.drop(['raw_value', 'normalised_name', 'measurement_method'], axis=1)"
   ]
  },
  {
   "cell_type": "markdown",
   "metadata": {},
   "source": [
    "#### Normalization"
   ]
  },
  {
   "cell_type": "markdown",
   "metadata": {},
   "source": [
    "To further work with the data, a normalized dataframe comes in useful"
   ]
  },
  {
   "cell_type": "code",
   "execution_count": 142,
   "metadata": {},
   "outputs": [],
   "source": [
    "# let's set the scaler\n",
    "scaler = MinMaxScaler()"
   ]
  },
  {
   "cell_type": "code",
   "execution_count": null,
   "metadata": {},
   "outputs": [],
   "source": [
    "# then apply it to the dataset\n",
    "scaler.fit(X_result)"
   ]
  },
  {
   "cell_type": "code",
   "execution_count": 150,
   "metadata": {},
   "outputs": [],
   "source": [
    "# let's save the scaler\n",
    "pi.dump(scaler, open('scaler.pkl', 'wb'))"
   ]
  },
  {
   "cell_type": "code",
   "execution_count": 151,
   "metadata": {},
   "outputs": [],
   "source": [
    "# transforming existing data\n",
    "X_result_transform = scaler.transform(X_result)"
   ]
  },
  {
   "cell_type": "code",
   "execution_count": 152,
   "metadata": {},
   "outputs": [],
   "source": [
    "# return the 'raw_value' to the dataframe\n",
    "X_result_transform = pd.DataFrame(X_result_transform, columns=X.columns)\n",
    "X_result_transform.insert(0, \"raw_value\", df_result[\"raw_value\"].reset_index(drop=True), True)"
   ]
  },
  {
   "cell_type": "code",
   "execution_count": 153,
   "metadata": {},
   "outputs": [],
   "source": [
    "# save the normalized data obtained\n",
    "X_result_transform.to_csv('6_clear_normalised.csv', index=False)"
   ]
  }
 ],
 "metadata": {
  "kernelspec": {
   "display_name": "Python 3 (ipykernel)",
   "language": "python",
   "name": "python3"
  },
  "language_info": {
   "codemirror_mode": {
    "name": "ipython",
    "version": 3
   },
   "file_extension": ".py",
   "mimetype": "text/x-python",
   "name": "python",
   "nbconvert_exporter": "python",
   "pygments_lexer": "ipython3",
   "version": "3.10.9"
  }
 },
 "nbformat": 4,
 "nbformat_minor": 2
}
