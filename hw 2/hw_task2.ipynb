{
 "cells": [
  {
   "attachments": {},
   "cell_type": "markdown",
   "metadata": {},
   "source": [
    "**Task 2**\n",
    "\n",
    "For this task, you should use the dataset from the first homework. Your dataset must contain at least 1000 descriptors, excluding the target (\"raw_value\"), and all the data cleansing steps must have been completed.\n",
    "\n",
    "Your task:\n",
    "\n",
    "1. Create at least 3 different types of statistical plots and 1 interactive plot to analyze your data. Use seaborn and plotly to visualize them. Draw conclusions and explain why the graphs are useful for analyzing your data.\n",
    "\n",
    "2. Perform statistical tests for one categorical variable and multiple numeric descriptors. Draw conclusions and interpret your results.\n",
    "\n",
    "3. Calculate correlation coefficients for your dataset and investigate multicollinearity. Visualize and interpret your results.\n",
    "\n",
    "4. Choose one linear (except PCA) and one non-linear dimension reduction method. Run them on your data. It is preferable to use seaborn and plotly to visualize results. Justify the choice of the number of components / dimensions and explain them.\n",
    "\n",
    "Complete all the steps of the assignment in a Jupyter Notebook (one per team). Upload the finalized Jupyter Notebook to the Google Drive of the course or GitHub. The deadline for completing all homework assignments is 23:59 of 25.03."
   ]
  },
  {
   "cell_type": "code",
   "execution_count": null,
   "metadata": {},
   "outputs": [],
   "source": []
  }
 ],
 "metadata": {
  "language_info": {
   "name": "python"
  },
  "orig_nbformat": 4
 },
 "nbformat": 4,
 "nbformat_minor": 2
}
